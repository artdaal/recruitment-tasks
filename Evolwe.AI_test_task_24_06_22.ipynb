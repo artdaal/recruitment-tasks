{
 "cells": [
  {
   "cell_type": "markdown",
   "metadata": {
    "id": "kOlKgSqBH4L3"
   },
   "source": [
    "# Тестовое задание для стартапа, разрабатывающего эмпатичный ИИ\n",
    "\n",
    "**Задача**: создать нейросеть для классификации интентов.\n",
    "\n",
    "**Данные**: корпус фраз из переписки с бота с человеком, размеченных на 71 интент."
   ]
  },
  {
   "cell_type": "markdown",
   "metadata": {
    "id": "cz9NK65nIo8T"
   },
   "source": [
    "## Импорт библиотек"
   ]
  },
  {
   "cell_type": "code",
   "execution_count": null,
   "metadata": {
    "colab": {
     "base_uri": "https://localhost:8080/"
    },
    "execution": {
     "iopub.execute_input": "2022-06-23T09:47:52.947043Z",
     "iopub.status.busy": "2022-06-23T09:47:52.946445Z",
     "iopub.status.idle": "2022-06-23T09:48:38.270377Z",
     "shell.execute_reply": "2022-06-23T09:48:38.269213Z",
     "shell.execute_reply.started": "2022-06-23T09:47:52.946934Z"
    },
    "id": "Qjxwme1c96ym",
    "outputId": "3974928f-cc83-4834-abcd-077c662d2a1b"
   },
   "outputs": [
    {
     "name": "stdout",
     "output_type": "stream",
     "text": [
      "Looking in indexes: https://pypi.org/simple, https://us-python.pkg.dev/colab-wheels/public/simple/\n",
      "Requirement already satisfied: transformers in /usr/local/lib/python3.7/dist-packages (4.20.1)\n",
      "Requirement already satisfied: filelock in /usr/local/lib/python3.7/dist-packages (from transformers) (3.7.1)\n",
      "Requirement already satisfied: tqdm>=4.27 in /usr/local/lib/python3.7/dist-packages (from transformers) (4.64.0)\n",
      "Requirement already satisfied: importlib-metadata in /usr/local/lib/python3.7/dist-packages (from transformers) (4.11.4)\n",
      "Requirement already satisfied: tokenizers!=0.11.3,<0.13,>=0.11.1 in /usr/local/lib/python3.7/dist-packages (from transformers) (0.12.1)\n",
      "Requirement already satisfied: huggingface-hub<1.0,>=0.1.0 in /usr/local/lib/python3.7/dist-packages (from transformers) (0.8.1)\n",
      "Requirement already satisfied: numpy>=1.17 in /usr/local/lib/python3.7/dist-packages (from transformers) (1.21.6)\n",
      "Requirement already satisfied: packaging>=20.0 in /usr/local/lib/python3.7/dist-packages (from transformers) (21.3)\n",
      "Requirement already satisfied: pyyaml>=5.1 in /usr/local/lib/python3.7/dist-packages (from transformers) (6.0)\n",
      "Requirement already satisfied: regex!=2019.12.17 in /usr/local/lib/python3.7/dist-packages (from transformers) (2022.6.2)\n",
      "Requirement already satisfied: requests in /usr/local/lib/python3.7/dist-packages (from transformers) (2.23.0)\n",
      "Requirement already satisfied: typing-extensions>=3.7.4.3 in /usr/local/lib/python3.7/dist-packages (from huggingface-hub<1.0,>=0.1.0->transformers) (4.1.1)\n",
      "Requirement already satisfied: pyparsing!=3.0.5,>=2.0.2 in /usr/local/lib/python3.7/dist-packages (from packaging>=20.0->transformers) (3.0.9)\n",
      "Requirement already satisfied: zipp>=0.5 in /usr/local/lib/python3.7/dist-packages (from importlib-metadata->transformers) (3.8.0)\n",
      "Requirement already satisfied: chardet<4,>=3.0.2 in /usr/local/lib/python3.7/dist-packages (from requests->transformers) (3.0.4)\n",
      "Requirement already satisfied: idna<3,>=2.5 in /usr/local/lib/python3.7/dist-packages (from requests->transformers) (2.10)\n",
      "Requirement already satisfied: urllib3!=1.25.0,!=1.25.1,<1.26,>=1.21.1 in /usr/local/lib/python3.7/dist-packages (from requests->transformers) (1.24.3)\n",
      "Requirement already satisfied: certifi>=2017.4.17 in /usr/local/lib/python3.7/dist-packages (from requests->transformers) (2022.6.15)\n"
     ]
    }
   ],
   "source": [
    "!pip install transformers\n",
    "\n",
    "import requests\n",
    "\n",
    "import matplotlib.pyplot as plt\n",
    "import numpy as np\n",
    "import pandas as pd\n",
    "import re\n",
    "from sklearn.model_selection import train_test_split\n",
    "from sklearn.preprocessing import LabelEncoder\n",
    "import torch \n",
    "import torch.nn as nn\n",
    "import torch.nn.functional as F\n",
    "from transformers import AutoTokenizer, BertModel\n",
    "from tqdm import tqdm\n",
    "import yaml\n",
    "from yaml.loader import SafeLoader\n",
    "\n",
    "RANDOM_STATE=42"
   ]
  },
  {
   "cell_type": "markdown",
   "metadata": {
    "id": "dHj8YwksI8xm"
   },
   "source": [
    "Будем использовать предобученную модель XLMRoberta-Alexa-Intents-Classification, которая была подготовлена командой из лаборатории Авиньона.\n",
    "* Модель обучалась на мультиязычном датасете MASSIVE из более 1 млн высказываний. Датасет был собран из типичных взаимодействий пользователей с голосовыми асисстентами;\n",
    "* Модель подготовлена специфично для задач классификации интентов;\n",
    "* Ссылка на репозиторий Hugging Face: https://huggingface.co/qanastek/XLMRoberta-Alexa-Intents-Classification"
   ]
  },
  {
   "cell_type": "markdown",
   "metadata": {
    "id": "gMfg8xjeLzEL"
   },
   "source": [
    "## Загрузка предобученной модели XLMRoberta"
   ]
  },
  {
   "cell_type": "code",
   "execution_count": null,
   "metadata": {
    "colab": {
     "base_uri": "https://localhost:8080/"
    },
    "id": "US6Mp0SE96yy",
    "outputId": "fb7be569-8f67-4069-e7ce-df50492e7dba"
   },
   "outputs": [
    {
     "name": "stderr",
     "output_type": "stream",
     "text": [
      "You are using a model of type xlm-roberta to instantiate a model of type bert. This is not supported for all configurations of models and can yield errors.\n",
      "Some weights of the model checkpoint at qanastek/XLMRoberta-Alexa-Intents-Classification were not used when initializing BertModel: ['roberta.encoder.layer.11.attention.self.key.bias', 'roberta.encoder.layer.4.attention.output.dense.weight', 'roberta.encoder.layer.1.output.LayerNorm.bias', 'roberta.encoder.layer.2.attention.self.query.weight', 'roberta.encoder.layer.2.attention.output.LayerNorm.bias', 'roberta.encoder.layer.11.attention.output.dense.bias', 'roberta.encoder.layer.7.attention.output.LayerNorm.weight', 'roberta.encoder.layer.10.intermediate.dense.weight', 'roberta.encoder.layer.10.output.LayerNorm.weight', 'roberta.encoder.layer.8.attention.self.value.weight', 'roberta.encoder.layer.10.attention.output.dense.bias', 'roberta.encoder.layer.3.output.LayerNorm.weight', 'roberta.encoder.layer.2.attention.self.key.bias', 'roberta.encoder.layer.6.intermediate.dense.bias', 'roberta.encoder.layer.11.intermediate.dense.bias', 'roberta.encoder.layer.3.attention.output.dense.weight', 'roberta.encoder.layer.4.attention.output.LayerNorm.bias', 'roberta.encoder.layer.11.attention.self.query.weight', 'roberta.encoder.layer.0.output.LayerNorm.bias', 'roberta.encoder.layer.5.attention.self.query.weight', 'roberta.encoder.layer.4.output.dense.weight', 'roberta.encoder.layer.9.output.LayerNorm.weight', 'roberta.encoder.layer.4.attention.self.query.weight', 'roberta.encoder.layer.7.attention.output.dense.weight', 'roberta.encoder.layer.10.attention.output.LayerNorm.weight', 'roberta.embeddings.LayerNorm.bias', 'roberta.encoder.layer.3.attention.self.query.bias', 'roberta.encoder.layer.8.attention.output.dense.weight', 'roberta.encoder.layer.5.attention.output.LayerNorm.weight', 'roberta.encoder.layer.6.attention.self.query.bias', 'classifier.out_proj.weight', 'roberta.encoder.layer.7.output.dense.bias', 'roberta.encoder.layer.1.attention.self.key.weight', 'roberta.encoder.layer.0.attention.output.LayerNorm.weight', 'roberta.encoder.layer.2.output.LayerNorm.weight', 'roberta.encoder.layer.7.attention.self.value.bias', 'roberta.encoder.layer.8.attention.self.key.weight', 'roberta.encoder.layer.1.attention.output.LayerNorm.bias', 'roberta.encoder.layer.2.output.dense.bias', 'roberta.encoder.layer.8.attention.self.value.bias', 'roberta.encoder.layer.11.output.dense.bias', 'roberta.encoder.layer.0.attention.self.key.weight', 'roberta.encoder.layer.11.attention.output.LayerNorm.bias', 'roberta.encoder.layer.1.attention.self.value.bias', 'roberta.encoder.layer.3.attention.self.key.bias', 'roberta.encoder.layer.11.output.LayerNorm.weight', 'roberta.encoder.layer.2.attention.self.query.bias', 'roberta.encoder.layer.2.output.LayerNorm.bias', 'roberta.encoder.layer.10.output.dense.weight', 'roberta.encoder.layer.2.intermediate.dense.weight', 'roberta.encoder.layer.11.attention.output.dense.weight', 'roberta.encoder.layer.1.attention.self.query.weight', 'roberta.encoder.layer.0.attention.self.query.weight', 'roberta.encoder.layer.2.attention.self.key.weight', 'roberta.encoder.layer.3.intermediate.dense.weight', 'roberta.encoder.layer.8.output.LayerNorm.bias', 'roberta.encoder.layer.6.intermediate.dense.weight', 'roberta.encoder.layer.10.attention.self.value.bias', 'roberta.encoder.layer.11.attention.self.key.weight', 'roberta.encoder.layer.5.attention.self.value.weight', 'roberta.encoder.layer.6.output.dense.bias', 'roberta.encoder.layer.0.attention.self.key.bias', 'roberta.encoder.layer.1.intermediate.dense.bias', 'roberta.encoder.layer.9.attention.self.value.bias', 'roberta.encoder.layer.0.intermediate.dense.weight', 'roberta.encoder.layer.3.attention.self.key.weight', 'roberta.encoder.layer.4.attention.self.query.bias', 'roberta.encoder.layer.1.output.dense.bias', 'roberta.encoder.layer.11.attention.self.value.bias', 'roberta.embeddings.position_ids', 'roberta.encoder.layer.6.attention.self.key.bias', 'roberta.encoder.layer.1.attention.output.LayerNorm.weight', 'roberta.encoder.layer.10.attention.self.query.bias', 'roberta.encoder.layer.7.intermediate.dense.weight', 'roberta.encoder.layer.3.attention.self.query.weight', 'roberta.encoder.layer.0.attention.self.query.bias', 'roberta.embeddings.word_embeddings.weight', 'roberta.encoder.layer.0.attention.self.value.bias', 'roberta.encoder.layer.9.intermediate.dense.weight', 'roberta.encoder.layer.6.attention.output.LayerNorm.bias', 'roberta.encoder.layer.3.attention.output.LayerNorm.bias', 'roberta.encoder.layer.8.attention.self.query.weight', 'roberta.encoder.layer.9.attention.output.dense.bias', 'roberta.encoder.layer.10.output.LayerNorm.bias', 'classifier.dense.weight', 'roberta.encoder.layer.4.attention.self.key.weight', 'roberta.encoder.layer.1.attention.output.dense.weight', 'roberta.encoder.layer.1.output.dense.weight', 'roberta.encoder.layer.9.attention.output.dense.weight', 'roberta.encoder.layer.5.attention.self.key.bias', 'roberta.encoder.layer.7.attention.output.dense.bias', 'roberta.encoder.layer.10.intermediate.dense.bias', 'roberta.encoder.layer.8.intermediate.dense.weight', 'roberta.encoder.layer.2.intermediate.dense.bias', 'roberta.encoder.layer.9.attention.output.LayerNorm.weight', 'roberta.encoder.layer.3.attention.self.value.weight', 'roberta.encoder.layer.4.attention.self.key.bias', 'roberta.encoder.layer.6.output.LayerNorm.weight', 'roberta.encoder.layer.3.intermediate.dense.bias', 'roberta.encoder.layer.4.attention.self.value.bias', 'roberta.encoder.layer.5.output.LayerNorm.bias', 'roberta.encoder.layer.2.attention.output.dense.bias', 'roberta.encoder.layer.8.attention.output.LayerNorm.weight', 'roberta.encoder.layer.11.output.dense.weight', 'roberta.encoder.layer.3.attention.output.dense.bias', 'roberta.encoder.layer.5.output.dense.bias', 'roberta.encoder.layer.6.output.LayerNorm.bias', 'roberta.encoder.layer.9.attention.self.query.bias', 'roberta.encoder.layer.3.output.LayerNorm.bias', 'roberta.encoder.layer.8.attention.self.key.bias', 'roberta.encoder.layer.7.intermediate.dense.bias', 'roberta.encoder.layer.1.output.LayerNorm.weight', 'roberta.encoder.layer.10.attention.self.key.weight', 'roberta.encoder.layer.6.output.dense.weight', 'roberta.encoder.layer.8.output.dense.bias', 'roberta.encoder.layer.5.intermediate.dense.weight', 'roberta.encoder.layer.5.attention.output.LayerNorm.bias', 'roberta.encoder.layer.5.output.LayerNorm.weight', 'roberta.encoder.layer.6.attention.output.LayerNorm.weight', 'roberta.encoder.layer.1.intermediate.dense.weight', 'roberta.encoder.layer.4.attention.self.value.weight', 'roberta.encoder.layer.8.attention.output.LayerNorm.bias', 'roberta.encoder.layer.10.output.dense.bias', 'classifier.dense.bias', 'roberta.encoder.layer.4.attention.output.LayerNorm.weight', 'roberta.encoder.layer.1.attention.self.value.weight', 'roberta.encoder.layer.0.attention.output.dense.weight', 'roberta.encoder.layer.2.output.dense.weight', 'roberta.embeddings.LayerNorm.weight', 'roberta.encoder.layer.2.attention.self.value.bias', 'roberta.encoder.layer.0.attention.self.value.weight', 'roberta.encoder.layer.11.attention.output.LayerNorm.weight', 'roberta.encoder.layer.4.output.LayerNorm.bias', 'roberta.encoder.layer.7.attention.self.query.bias', 'roberta.embeddings.position_embeddings.weight', 'roberta.encoder.layer.1.attention.self.query.bias', 'roberta.encoder.layer.2.attention.output.dense.weight', 'roberta.encoder.layer.7.attention.self.value.weight', 'roberta.encoder.layer.6.attention.self.value.weight', 'roberta.encoder.layer.3.output.dense.bias', 'roberta.encoder.layer.6.attention.self.value.bias', 'roberta.encoder.layer.9.output.dense.weight', 'roberta.encoder.layer.5.attention.self.key.weight', 'roberta.encoder.layer.10.attention.output.LayerNorm.bias', 'roberta.encoder.layer.9.attention.output.LayerNorm.bias', 'roberta.encoder.layer.2.attention.self.value.weight', 'roberta.encoder.layer.6.attention.output.dense.weight', 'roberta.encoder.layer.3.attention.self.value.bias', 'roberta.encoder.layer.3.output.dense.weight', 'roberta.encoder.layer.10.attention.output.dense.weight', 'roberta.encoder.layer.0.output.dense.weight', 'roberta.encoder.layer.9.attention.self.key.bias', 'roberta.encoder.layer.5.intermediate.dense.bias', 'roberta.encoder.layer.7.output.dense.weight', 'roberta.encoder.layer.6.attention.self.key.weight', 'roberta.encoder.layer.9.output.dense.bias', 'roberta.encoder.layer.4.attention.output.dense.bias', 'roberta.encoder.layer.4.output.dense.bias', 'roberta.encoder.layer.4.intermediate.dense.weight', 'roberta.encoder.layer.7.attention.self.query.weight', 'roberta.encoder.layer.0.attention.output.LayerNorm.bias', 'roberta.encoder.layer.6.attention.self.query.weight', 'roberta.encoder.layer.8.output.dense.weight', 'roberta.encoder.layer.8.intermediate.dense.bias', 'roberta.embeddings.token_type_embeddings.weight', 'roberta.encoder.layer.9.attention.self.value.weight', 'roberta.encoder.layer.1.attention.output.dense.bias', 'roberta.encoder.layer.11.output.LayerNorm.bias', 'roberta.encoder.layer.0.output.dense.bias', 'roberta.encoder.layer.1.attention.self.key.bias', 'roberta.encoder.layer.0.intermediate.dense.bias', 'roberta.encoder.layer.11.attention.self.value.weight', 'roberta.encoder.layer.9.attention.self.key.weight', 'roberta.encoder.layer.10.attention.self.key.bias', 'roberta.encoder.layer.0.attention.output.dense.bias', 'roberta.encoder.layer.7.output.LayerNorm.weight', 'roberta.encoder.layer.7.attention.self.key.weight', 'roberta.encoder.layer.0.output.LayerNorm.weight', 'roberta.encoder.layer.4.intermediate.dense.bias', 'roberta.encoder.layer.4.output.LayerNorm.weight', 'roberta.encoder.layer.8.attention.self.query.bias', 'roberta.encoder.layer.11.attention.self.query.bias', 'roberta.encoder.layer.5.output.dense.weight', 'roberta.encoder.layer.3.attention.output.LayerNorm.weight', 'roberta.encoder.layer.5.attention.output.dense.bias', 'roberta.encoder.layer.7.attention.output.LayerNorm.bias', 'roberta.encoder.layer.2.attention.output.LayerNorm.weight', 'roberta.encoder.layer.10.attention.self.query.weight', 'classifier.out_proj.bias', 'roberta.encoder.layer.5.attention.self.value.bias', 'roberta.encoder.layer.8.attention.output.dense.bias', 'roberta.encoder.layer.8.output.LayerNorm.weight', 'roberta.encoder.layer.5.attention.self.query.bias', 'roberta.encoder.layer.6.attention.output.dense.bias', 'roberta.encoder.layer.7.output.LayerNorm.bias', 'roberta.encoder.layer.10.attention.self.value.weight', 'roberta.encoder.layer.7.attention.self.key.bias', 'roberta.encoder.layer.5.attention.output.dense.weight', 'roberta.encoder.layer.11.intermediate.dense.weight', 'roberta.encoder.layer.9.attention.self.query.weight', 'roberta.encoder.layer.9.output.LayerNorm.bias', 'roberta.encoder.layer.9.intermediate.dense.bias']\n",
      "- This IS expected if you are initializing BertModel from the checkpoint of a model trained on another task or with another architecture (e.g. initializing a BertForSequenceClassification model from a BertForPreTraining model).\n",
      "- This IS NOT expected if you are initializing BertModel from the checkpoint of a model that you expect to be exactly identical (initializing a BertForSequenceClassification model from a BertForSequenceClassification model).\n",
      "Some weights of BertModel were not initialized from the model checkpoint at qanastek/XLMRoberta-Alexa-Intents-Classification and are newly initialized: ['encoder.layer.9.attention.self.key.weight', 'encoder.layer.2.output.dense.weight', 'encoder.layer.6.intermediate.dense.bias', 'encoder.layer.5.attention.output.dense.weight', 'encoder.layer.2.attention.self.query.weight', 'encoder.layer.10.output.LayerNorm.weight', 'pooler.dense.weight', 'encoder.layer.2.output.LayerNorm.bias', 'encoder.layer.8.attention.output.LayerNorm.weight', 'encoder.layer.0.attention.self.key.weight', 'encoder.layer.10.attention.self.query.bias', 'encoder.layer.10.attention.self.value.weight', 'encoder.layer.3.attention.self.value.weight', 'encoder.layer.1.attention.self.query.bias', 'encoder.layer.6.attention.output.dense.bias', 'encoder.layer.5.output.dense.bias', 'pooler.dense.bias', 'encoder.layer.8.output.LayerNorm.weight', 'encoder.layer.7.intermediate.dense.bias', 'encoder.layer.0.attention.output.LayerNorm.weight', 'encoder.layer.6.attention.output.LayerNorm.bias', 'encoder.layer.1.intermediate.dense.weight', 'encoder.layer.11.output.dense.weight', 'encoder.layer.7.output.dense.weight', 'encoder.layer.2.attention.output.LayerNorm.weight', 'encoder.layer.1.attention.self.key.bias', 'encoder.layer.10.attention.output.dense.weight', 'encoder.layer.7.attention.self.key.weight', 'encoder.layer.10.output.dense.weight', 'encoder.layer.10.attention.self.query.weight', 'encoder.layer.8.attention.self.value.bias', 'encoder.layer.5.output.LayerNorm.weight', 'encoder.layer.11.attention.self.value.weight', 'encoder.layer.9.output.dense.weight', 'encoder.layer.9.attention.self.key.bias', 'encoder.layer.4.attention.output.dense.bias', 'encoder.layer.2.attention.self.key.weight', 'encoder.layer.0.output.dense.bias', 'encoder.layer.8.output.dense.weight', 'encoder.layer.2.attention.self.value.bias', 'encoder.layer.1.output.LayerNorm.weight', 'encoder.layer.6.attention.self.key.bias', 'encoder.layer.11.output.LayerNorm.bias', 'encoder.layer.5.attention.output.dense.bias', 'encoder.layer.2.attention.output.dense.weight', 'encoder.layer.1.attention.self.key.weight', 'encoder.layer.8.output.LayerNorm.bias', 'encoder.layer.1.output.LayerNorm.bias', 'encoder.layer.9.attention.output.LayerNorm.bias', 'encoder.layer.0.intermediate.dense.bias', 'encoder.layer.3.attention.output.LayerNorm.weight', 'encoder.layer.1.attention.output.LayerNorm.bias', 'encoder.layer.3.output.dense.bias', 'encoder.layer.3.attention.self.key.weight', 'encoder.layer.9.output.LayerNorm.weight', 'encoder.layer.4.output.LayerNorm.bias', 'encoder.layer.1.output.dense.bias', 'encoder.layer.11.attention.output.LayerNorm.weight', 'encoder.layer.6.intermediate.dense.weight', 'encoder.layer.0.attention.output.dense.weight', 'encoder.layer.3.output.LayerNorm.weight', 'encoder.layer.10.intermediate.dense.weight', 'embeddings.token_type_embeddings.weight', 'encoder.layer.6.attention.self.value.weight', 'encoder.layer.10.attention.self.key.weight', 'embeddings.LayerNorm.bias', 'encoder.layer.4.attention.self.value.bias', 'encoder.layer.11.attention.output.LayerNorm.bias', 'encoder.layer.6.attention.output.dense.weight', 'encoder.layer.6.attention.self.query.weight', 'encoder.layer.7.attention.self.value.weight', 'encoder.layer.6.attention.output.LayerNorm.weight', 'encoder.layer.4.attention.self.key.bias', 'encoder.layer.6.output.dense.bias', 'encoder.layer.5.attention.self.key.weight', 'encoder.layer.1.attention.self.value.weight', 'encoder.layer.3.attention.output.LayerNorm.bias', 'encoder.layer.4.attention.self.value.weight', 'encoder.layer.5.attention.self.key.bias', 'encoder.layer.2.attention.output.dense.bias', 'encoder.layer.11.intermediate.dense.weight', 'encoder.layer.9.intermediate.dense.bias', 'encoder.layer.5.attention.self.query.weight', 'encoder.layer.5.output.dense.weight', 'encoder.layer.1.attention.self.query.weight', 'encoder.layer.1.attention.output.dense.bias', 'encoder.layer.6.attention.self.key.weight', 'encoder.layer.2.attention.self.key.bias', 'encoder.layer.2.intermediate.dense.bias', 'encoder.layer.3.intermediate.dense.weight', 'encoder.layer.3.attention.output.dense.weight', 'encoder.layer.8.attention.output.dense.bias', 'encoder.layer.8.attention.self.value.weight', 'encoder.layer.2.output.dense.bias', 'encoder.layer.7.output.dense.bias', 'encoder.layer.11.attention.output.dense.bias', 'encoder.layer.4.intermediate.dense.weight', 'encoder.layer.5.attention.output.LayerNorm.weight', 'encoder.layer.5.intermediate.dense.bias', 'encoder.layer.0.attention.self.query.weight', 'encoder.layer.4.attention.self.query.bias', 'encoder.layer.4.output.dense.weight', 'encoder.layer.3.attention.output.dense.bias', 'encoder.layer.3.output.dense.weight', 'encoder.layer.1.attention.output.LayerNorm.weight', 'encoder.layer.4.intermediate.dense.bias', 'encoder.layer.0.output.LayerNorm.bias', 'encoder.layer.2.attention.output.LayerNorm.bias', 'encoder.layer.5.attention.self.value.weight', 'encoder.layer.7.attention.self.query.weight', 'encoder.layer.4.attention.self.key.weight', 'encoder.layer.8.attention.self.query.bias', 'encoder.layer.10.output.LayerNorm.bias', 'encoder.layer.4.output.LayerNorm.weight', 'encoder.layer.7.attention.self.value.bias', 'encoder.layer.4.attention.output.LayerNorm.weight', 'encoder.layer.7.attention.self.key.bias', 'encoder.layer.9.attention.self.value.bias', 'encoder.layer.11.attention.self.query.weight', 'encoder.layer.0.output.LayerNorm.weight', 'encoder.layer.1.intermediate.dense.bias', 'encoder.layer.9.attention.output.dense.weight', 'encoder.layer.9.attention.self.query.weight', 'encoder.layer.11.attention.self.value.bias', 'encoder.layer.0.attention.self.value.weight', 'encoder.layer.6.attention.self.value.bias', 'encoder.layer.0.intermediate.dense.weight', 'encoder.layer.7.intermediate.dense.weight', 'encoder.layer.7.output.LayerNorm.bias', 'encoder.layer.11.output.LayerNorm.weight', 'encoder.layer.11.intermediate.dense.bias', 'encoder.layer.2.intermediate.dense.weight', 'encoder.layer.4.attention.self.query.weight', 'encoder.layer.9.attention.output.dense.bias', 'encoder.layer.10.intermediate.dense.bias', 'encoder.layer.1.attention.output.dense.weight', 'encoder.layer.8.intermediate.dense.weight', 'encoder.layer.6.output.dense.weight', 'encoder.layer.0.attention.self.value.bias', 'encoder.layer.5.intermediate.dense.weight', 'encoder.layer.3.output.LayerNorm.bias', 'encoder.layer.0.attention.output.LayerNorm.bias', 'encoder.layer.9.output.dense.bias', 'encoder.layer.3.attention.self.query.bias', 'encoder.layer.10.attention.self.key.bias', 'embeddings.LayerNorm.weight', 'encoder.layer.7.attention.output.dense.weight', 'encoder.layer.4.attention.output.LayerNorm.bias', 'encoder.layer.2.attention.self.value.weight', 'encoder.layer.8.output.dense.bias', 'encoder.layer.11.attention.self.key.weight', 'encoder.layer.11.output.dense.bias', 'encoder.layer.3.attention.self.key.bias', 'encoder.layer.8.attention.output.dense.weight', 'encoder.layer.1.attention.self.value.bias', 'encoder.layer.7.output.LayerNorm.weight', 'encoder.layer.7.attention.output.LayerNorm.bias', 'encoder.layer.8.attention.output.LayerNorm.bias', 'encoder.layer.2.attention.self.query.bias', 'encoder.layer.4.output.dense.bias', 'encoder.layer.6.attention.self.query.bias', 'encoder.layer.10.attention.output.LayerNorm.bias', 'encoder.layer.0.output.dense.weight', 'encoder.layer.1.output.dense.weight', 'encoder.layer.0.attention.output.dense.bias', 'encoder.layer.9.attention.self.query.bias', 'encoder.layer.7.attention.output.dense.bias', 'encoder.layer.8.intermediate.dense.bias', 'encoder.layer.8.attention.self.query.weight', 'encoder.layer.2.output.LayerNorm.weight', 'encoder.layer.0.attention.self.query.bias', 'encoder.layer.5.attention.self.query.bias', 'embeddings.word_embeddings.weight', 'encoder.layer.5.attention.self.value.bias', 'encoder.layer.6.output.LayerNorm.bias', 'encoder.layer.5.output.LayerNorm.bias', 'encoder.layer.0.attention.self.key.bias', 'encoder.layer.3.attention.self.query.weight', 'encoder.layer.10.attention.self.value.bias', 'encoder.layer.9.attention.output.LayerNorm.weight', 'encoder.layer.9.intermediate.dense.weight', 'encoder.layer.10.attention.output.dense.bias', 'encoder.layer.7.attention.self.query.bias', 'encoder.layer.4.attention.output.dense.weight', 'encoder.layer.10.attention.output.LayerNorm.weight', 'encoder.layer.5.attention.output.LayerNorm.bias', 'encoder.layer.8.attention.self.key.bias', 'encoder.layer.9.attention.self.value.weight', 'encoder.layer.11.attention.self.query.bias', 'encoder.layer.9.output.LayerNorm.bias', 'encoder.layer.3.intermediate.dense.bias', 'encoder.layer.10.output.dense.bias', 'embeddings.position_embeddings.weight', 'encoder.layer.11.attention.self.key.bias', 'encoder.layer.6.output.LayerNorm.weight', 'encoder.layer.7.attention.output.LayerNorm.weight', 'encoder.layer.8.attention.self.key.weight', 'encoder.layer.3.attention.self.value.bias', 'encoder.layer.11.attention.output.dense.weight']\n",
      "You should probably TRAIN this model on a down-stream task to be able to use it for predictions and inference.\n"
     ]
    }
   ],
   "source": [
    "model_name = 'qanastek/XLMRoberta-Alexa-Intents-Classification'\n",
    "tokenizer = AutoTokenizer.from_pretrained(model_name)\n",
    "model = BertModel.from_pretrained(model_name)"
   ]
  },
  {
   "cell_type": "markdown",
   "metadata": {
    "id": "OWCS9OzoL4is"
   },
   "source": [
    "## Подготовка данных"
   ]
  },
  {
   "cell_type": "markdown",
   "metadata": {
    "id": "RUBM04vBKv8-"
   },
   "source": [
    "Для удобства, датасет с нашими текстами (`hello_nova_intents_0.2.2.yaml`) загружен на Яндекс.Диск, откуда и подгружается уже в `pandas.DataFrame` с помощью следующей ячейки кода."
   ]
  },
  {
   "cell_type": "code",
   "execution_count": null,
   "metadata": {
    "colab": {
     "base_uri": "https://localhost:8080/"
    },
    "id": "DviImfR796yz",
    "outputId": "bea8d90f-de76-4659-d44c-efa37c6d6609"
   },
   "outputs": [
    {
     "data": {
      "text/plain": [
       "(71, 2)"
      ]
     },
     "execution_count": 39,
     "metadata": {},
     "output_type": "execute_result"
    }
   ],
   "source": [
    "response = requests.get('https://getfile.dokpub.com/yandex/get/https://disk.yandex.ru/d/wkqXziJ4oRl69g')\n",
    "\n",
    "data = yaml.load(response.content, Loader=SafeLoader)\n",
    "data = pd.DataFrame(data.get('data'))\n",
    "data.shape"
   ]
  },
  {
   "cell_type": "code",
   "execution_count": null,
   "metadata": {
    "colab": {
     "base_uri": "https://localhost:8080/",
     "height": 363
    },
    "id": "x9Osa1U_LdJg",
    "outputId": "0f82ea52-d5d5-4e07-f69f-b148d371e3cc"
   },
   "outputs": [
    {
     "data": {
      "text/html": [
       "\n",
       "  <div id=\"df-ef0f830b-4196-47ca-a67b-7876e7d96315\">\n",
       "    <div class=\"colab-df-container\">\n",
       "      <div>\n",
       "<style scoped>\n",
       "    .dataframe tbody tr th:only-of-type {\n",
       "        vertical-align: middle;\n",
       "    }\n",
       "\n",
       "    .dataframe tbody tr th {\n",
       "        vertical-align: top;\n",
       "    }\n",
       "\n",
       "    .dataframe thead th {\n",
       "        text-align: right;\n",
       "    }\n",
       "</style>\n",
       "<table border=\"1\" class=\"dataframe\">\n",
       "  <thead>\n",
       "    <tr style=\"text-align: right;\">\n",
       "      <th></th>\n",
       "      <th>intent</th>\n",
       "      <th>examples</th>\n",
       "    </tr>\n",
       "  </thead>\n",
       "  <tbody>\n",
       "    <tr>\n",
       "      <th>0</th>\n",
       "      <td>Hello</td>\n",
       "      <td>[Hi, Hello, Hi, bot, Good morning, Good aftern...</td>\n",
       "    </tr>\n",
       "    <tr>\n",
       "      <th>1</th>\n",
       "      <td>How are you?</td>\n",
       "      <td>[How are you?, What's up?, So how you been?, H...</td>\n",
       "    </tr>\n",
       "    <tr>\n",
       "      <th>2</th>\n",
       "      <td>What is this for?</td>\n",
       "      <td>[What is this for?]</td>\n",
       "    </tr>\n",
       "    <tr>\n",
       "      <th>3</th>\n",
       "      <td>How can you help me?</td>\n",
       "      <td>[How can you help me?, How do you want to help...</td>\n",
       "    </tr>\n",
       "    <tr>\n",
       "      <th>4</th>\n",
       "      <td>Are you a human?</td>\n",
       "      <td>[Are you a human?]</td>\n",
       "    </tr>\n",
       "    <tr>\n",
       "      <th>5</th>\n",
       "      <td>What can you do for me?</td>\n",
       "      <td>[What can you do for me?, What are you able to...</td>\n",
       "    </tr>\n",
       "    <tr>\n",
       "      <th>6</th>\n",
       "      <td>How does it work?</td>\n",
       "      <td>[How does it work?, What can you do?, How can ...</td>\n",
       "    </tr>\n",
       "    <tr>\n",
       "      <th>7</th>\n",
       "      <td>Can I trust you?</td>\n",
       "      <td>[Why can I trust you?, Can I trust you?]</td>\n",
       "    </tr>\n",
       "    <tr>\n",
       "      <th>8</th>\n",
       "      <td>Why can't you understand me?</td>\n",
       "      <td>[Why can't you understand me?]</td>\n",
       "    </tr>\n",
       "    <tr>\n",
       "      <th>9</th>\n",
       "      <td>What are you based on?</td>\n",
       "      <td>[Are you based on astrology?, What are you bas...</td>\n",
       "    </tr>\n",
       "  </tbody>\n",
       "</table>\n",
       "</div>\n",
       "      <button class=\"colab-df-convert\" onclick=\"convertToInteractive('df-ef0f830b-4196-47ca-a67b-7876e7d96315')\"\n",
       "              title=\"Convert this dataframe to an interactive table.\"\n",
       "              style=\"display:none;\">\n",
       "        \n",
       "  <svg xmlns=\"http://www.w3.org/2000/svg\" height=\"24px\"viewBox=\"0 0 24 24\"\n",
       "       width=\"24px\">\n",
       "    <path d=\"M0 0h24v24H0V0z\" fill=\"none\"/>\n",
       "    <path d=\"M18.56 5.44l.94 2.06.94-2.06 2.06-.94-2.06-.94-.94-2.06-.94 2.06-2.06.94zm-11 1L8.5 8.5l.94-2.06 2.06-.94-2.06-.94L8.5 2.5l-.94 2.06-2.06.94zm10 10l.94 2.06.94-2.06 2.06-.94-2.06-.94-.94-2.06-.94 2.06-2.06.94z\"/><path d=\"M17.41 7.96l-1.37-1.37c-.4-.4-.92-.59-1.43-.59-.52 0-1.04.2-1.43.59L10.3 9.45l-7.72 7.72c-.78.78-.78 2.05 0 2.83L4 21.41c.39.39.9.59 1.41.59.51 0 1.02-.2 1.41-.59l7.78-7.78 2.81-2.81c.8-.78.8-2.07 0-2.86zM5.41 20L4 18.59l7.72-7.72 1.47 1.35L5.41 20z\"/>\n",
       "  </svg>\n",
       "      </button>\n",
       "      \n",
       "  <style>\n",
       "    .colab-df-container {\n",
       "      display:flex;\n",
       "      flex-wrap:wrap;\n",
       "      gap: 12px;\n",
       "    }\n",
       "\n",
       "    .colab-df-convert {\n",
       "      background-color: #E8F0FE;\n",
       "      border: none;\n",
       "      border-radius: 50%;\n",
       "      cursor: pointer;\n",
       "      display: none;\n",
       "      fill: #1967D2;\n",
       "      height: 32px;\n",
       "      padding: 0 0 0 0;\n",
       "      width: 32px;\n",
       "    }\n",
       "\n",
       "    .colab-df-convert:hover {\n",
       "      background-color: #E2EBFA;\n",
       "      box-shadow: 0px 1px 2px rgba(60, 64, 67, 0.3), 0px 1px 3px 1px rgba(60, 64, 67, 0.15);\n",
       "      fill: #174EA6;\n",
       "    }\n",
       "\n",
       "    [theme=dark] .colab-df-convert {\n",
       "      background-color: #3B4455;\n",
       "      fill: #D2E3FC;\n",
       "    }\n",
       "\n",
       "    [theme=dark] .colab-df-convert:hover {\n",
       "      background-color: #434B5C;\n",
       "      box-shadow: 0px 1px 3px 1px rgba(0, 0, 0, 0.15);\n",
       "      filter: drop-shadow(0px 1px 2px rgba(0, 0, 0, 0.3));\n",
       "      fill: #FFFFFF;\n",
       "    }\n",
       "  </style>\n",
       "\n",
       "      <script>\n",
       "        const buttonEl =\n",
       "          document.querySelector('#df-ef0f830b-4196-47ca-a67b-7876e7d96315 button.colab-df-convert');\n",
       "        buttonEl.style.display =\n",
       "          google.colab.kernel.accessAllowed ? 'block' : 'none';\n",
       "\n",
       "        async function convertToInteractive(key) {\n",
       "          const element = document.querySelector('#df-ef0f830b-4196-47ca-a67b-7876e7d96315');\n",
       "          const dataTable =\n",
       "            await google.colab.kernel.invokeFunction('convertToInteractive',\n",
       "                                                     [key], {});\n",
       "          if (!dataTable) return;\n",
       "\n",
       "          const docLinkHtml = 'Like what you see? Visit the ' +\n",
       "            '<a target=\"_blank\" href=https://colab.research.google.com/notebooks/data_table.ipynb>data table notebook</a>'\n",
       "            + ' to learn more about interactive tables.';\n",
       "          element.innerHTML = '';\n",
       "          dataTable['output_type'] = 'display_data';\n",
       "          await google.colab.output.renderOutput(dataTable, element);\n",
       "          const docLink = document.createElement('div');\n",
       "          docLink.innerHTML = docLinkHtml;\n",
       "          element.appendChild(docLink);\n",
       "        }\n",
       "      </script>\n",
       "    </div>\n",
       "  </div>\n",
       "  "
      ],
      "text/plain": [
       "                         intent  \\\n",
       "0                         Hello   \n",
       "1                  How are you?   \n",
       "2             What is this for?   \n",
       "3          How can you help me?   \n",
       "4              Are you a human?   \n",
       "5       What can you do for me?   \n",
       "6             How does it work?   \n",
       "7              Can I trust you?   \n",
       "8  Why can't you understand me?   \n",
       "9        What are you based on?   \n",
       "\n",
       "                                            examples  \n",
       "0  [Hi, Hello, Hi, bot, Good morning, Good aftern...  \n",
       "1  [How are you?, What's up?, So how you been?, H...  \n",
       "2                                [What is this for?]  \n",
       "3  [How can you help me?, How do you want to help...  \n",
       "4                                 [Are you a human?]  \n",
       "5  [What can you do for me?, What are you able to...  \n",
       "6  [How does it work?, What can you do?, How can ...  \n",
       "7           [Why can I trust you?, Can I trust you?]  \n",
       "8                     [Why can't you understand me?]  \n",
       "9  [Are you based on astrology?, What are you bas...  "
      ]
     },
     "execution_count": 40,
     "metadata": {},
     "output_type": "execute_result"
    }
   ],
   "source": [
    "data.head(10)"
   ]
  },
  {
   "cell_type": "code",
   "execution_count": null,
   "metadata": {
    "colab": {
     "base_uri": "https://localhost:8080/"
    },
    "id": "FR_BWG6WC428",
    "outputId": "837bc5c5-1094-4908-a541-2a321e368b08"
   },
   "outputs": [
    {
     "data": {
      "text/plain": [
       "count    71.000000\n",
       "mean      6.802817\n",
       "std       3.856793\n",
       "min       1.000000\n",
       "25%       5.000000\n",
       "50%       5.000000\n",
       "75%      10.000000\n",
       "max      28.000000\n",
       "Name: examples, dtype: float64"
      ]
     },
     "execution_count": 41,
     "metadata": {},
     "output_type": "execute_result"
    }
   ],
   "source": [
    "data['examples'].apply(len).describe()"
   ]
  },
  {
   "cell_type": "markdown",
   "metadata": {
    "id": "XeLHkZqkLMwS"
   },
   "source": [
    "На каждый интент мы имеем в среднем 5-7 текстов, но при этом есть интенты с всего одной фразой."
   ]
  },
  {
   "cell_type": "code",
   "execution_count": null,
   "metadata": {
    "colab": {
     "base_uri": "https://localhost:8080/",
     "height": 363
    },
    "id": "yjQpN-UFWMZv",
    "outputId": "a49f1a9c-74b0-4e4d-8582-3ab51946d2bc"
   },
   "outputs": [
    {
     "data": {
      "text/html": [
       "\n",
       "  <div id=\"df-517ea006-3154-4b07-ace3-c425476d9df1\">\n",
       "    <div class=\"colab-df-container\">\n",
       "      <div>\n",
       "<style scoped>\n",
       "    .dataframe tbody tr th:only-of-type {\n",
       "        vertical-align: middle;\n",
       "    }\n",
       "\n",
       "    .dataframe tbody tr th {\n",
       "        vertical-align: top;\n",
       "    }\n",
       "\n",
       "    .dataframe thead th {\n",
       "        text-align: right;\n",
       "    }\n",
       "</style>\n",
       "<table border=\"1\" class=\"dataframe\">\n",
       "  <thead>\n",
       "    <tr style=\"text-align: right;\">\n",
       "      <th></th>\n",
       "      <th>intent</th>\n",
       "      <th>examples</th>\n",
       "    </tr>\n",
       "  </thead>\n",
       "  <tbody>\n",
       "    <tr>\n",
       "      <th>61</th>\n",
       "      <td>(1) uniqueness</td>\n",
       "      <td>[What is your difference from other bots?, Wha...</td>\n",
       "    </tr>\n",
       "    <tr>\n",
       "      <th>62</th>\n",
       "      <td>(2) uniqueness</td>\n",
       "      <td>[How can AI help with real life problems?, How...</td>\n",
       "    </tr>\n",
       "    <tr>\n",
       "      <th>63</th>\n",
       "      <td>(1) time addenta</td>\n",
       "      <td>[Do you have any working hours?, Is it true th...</td>\n",
       "    </tr>\n",
       "    <tr>\n",
       "      <th>64</th>\n",
       "      <td>(2) rules addenta</td>\n",
       "      <td>[Can you listen to the voice messages?, Can I ...</td>\n",
       "    </tr>\n",
       "    <tr>\n",
       "      <th>65</th>\n",
       "      <td>(3) feelings addenta</td>\n",
       "      <td>[What if I will annoy you?, Can you get angry ...</td>\n",
       "    </tr>\n",
       "    <tr>\n",
       "      <th>66</th>\n",
       "      <td>(4) feelings addenta</td>\n",
       "      <td>[What human emotions do you know?, Can you tel...</td>\n",
       "    </tr>\n",
       "    <tr>\n",
       "      <th>67</th>\n",
       "      <td>(5) expertise addenta</td>\n",
       "      <td>[Do you have any successful cases of helping p...</td>\n",
       "    </tr>\n",
       "    <tr>\n",
       "      <th>68</th>\n",
       "      <td>(6) expertise addenta</td>\n",
       "      <td>[How long have you been helping people?, Can y...</td>\n",
       "    </tr>\n",
       "    <tr>\n",
       "      <th>69</th>\n",
       "      <td>(7) support 24/7 addenta</td>\n",
       "      <td>[Can you provide me and my husband with family...</td>\n",
       "    </tr>\n",
       "    <tr>\n",
       "      <th>70</th>\n",
       "      <td>(8) support 24/7 addenta</td>\n",
       "      <td>[Can you help children under 14?, Are you able...</td>\n",
       "    </tr>\n",
       "  </tbody>\n",
       "</table>\n",
       "</div>\n",
       "      <button class=\"colab-df-convert\" onclick=\"convertToInteractive('df-517ea006-3154-4b07-ace3-c425476d9df1')\"\n",
       "              title=\"Convert this dataframe to an interactive table.\"\n",
       "              style=\"display:none;\">\n",
       "        \n",
       "  <svg xmlns=\"http://www.w3.org/2000/svg\" height=\"24px\"viewBox=\"0 0 24 24\"\n",
       "       width=\"24px\">\n",
       "    <path d=\"M0 0h24v24H0V0z\" fill=\"none\"/>\n",
       "    <path d=\"M18.56 5.44l.94 2.06.94-2.06 2.06-.94-2.06-.94-.94-2.06-.94 2.06-2.06.94zm-11 1L8.5 8.5l.94-2.06 2.06-.94-2.06-.94L8.5 2.5l-.94 2.06-2.06.94zm10 10l.94 2.06.94-2.06 2.06-.94-2.06-.94-.94-2.06-.94 2.06-2.06.94z\"/><path d=\"M17.41 7.96l-1.37-1.37c-.4-.4-.92-.59-1.43-.59-.52 0-1.04.2-1.43.59L10.3 9.45l-7.72 7.72c-.78.78-.78 2.05 0 2.83L4 21.41c.39.39.9.59 1.41.59.51 0 1.02-.2 1.41-.59l7.78-7.78 2.81-2.81c.8-.78.8-2.07 0-2.86zM5.41 20L4 18.59l7.72-7.72 1.47 1.35L5.41 20z\"/>\n",
       "  </svg>\n",
       "      </button>\n",
       "      \n",
       "  <style>\n",
       "    .colab-df-container {\n",
       "      display:flex;\n",
       "      flex-wrap:wrap;\n",
       "      gap: 12px;\n",
       "    }\n",
       "\n",
       "    .colab-df-convert {\n",
       "      background-color: #E8F0FE;\n",
       "      border: none;\n",
       "      border-radius: 50%;\n",
       "      cursor: pointer;\n",
       "      display: none;\n",
       "      fill: #1967D2;\n",
       "      height: 32px;\n",
       "      padding: 0 0 0 0;\n",
       "      width: 32px;\n",
       "    }\n",
       "\n",
       "    .colab-df-convert:hover {\n",
       "      background-color: #E2EBFA;\n",
       "      box-shadow: 0px 1px 2px rgba(60, 64, 67, 0.3), 0px 1px 3px 1px rgba(60, 64, 67, 0.15);\n",
       "      fill: #174EA6;\n",
       "    }\n",
       "\n",
       "    [theme=dark] .colab-df-convert {\n",
       "      background-color: #3B4455;\n",
       "      fill: #D2E3FC;\n",
       "    }\n",
       "\n",
       "    [theme=dark] .colab-df-convert:hover {\n",
       "      background-color: #434B5C;\n",
       "      box-shadow: 0px 1px 3px 1px rgba(0, 0, 0, 0.15);\n",
       "      filter: drop-shadow(0px 1px 2px rgba(0, 0, 0, 0.3));\n",
       "      fill: #FFFFFF;\n",
       "    }\n",
       "  </style>\n",
       "\n",
       "      <script>\n",
       "        const buttonEl =\n",
       "          document.querySelector('#df-517ea006-3154-4b07-ace3-c425476d9df1 button.colab-df-convert');\n",
       "        buttonEl.style.display =\n",
       "          google.colab.kernel.accessAllowed ? 'block' : 'none';\n",
       "\n",
       "        async function convertToInteractive(key) {\n",
       "          const element = document.querySelector('#df-517ea006-3154-4b07-ace3-c425476d9df1');\n",
       "          const dataTable =\n",
       "            await google.colab.kernel.invokeFunction('convertToInteractive',\n",
       "                                                     [key], {});\n",
       "          if (!dataTable) return;\n",
       "\n",
       "          const docLinkHtml = 'Like what you see? Visit the ' +\n",
       "            '<a target=\"_blank\" href=https://colab.research.google.com/notebooks/data_table.ipynb>data table notebook</a>'\n",
       "            + ' to learn more about interactive tables.';\n",
       "          element.innerHTML = '';\n",
       "          dataTable['output_type'] = 'display_data';\n",
       "          await google.colab.output.renderOutput(dataTable, element);\n",
       "          const docLink = document.createElement('div');\n",
       "          docLink.innerHTML = docLinkHtml;\n",
       "          element.appendChild(docLink);\n",
       "        }\n",
       "      </script>\n",
       "    </div>\n",
       "  </div>\n",
       "  "
      ],
      "text/plain": [
       "                      intent  \\\n",
       "61            (1) uniqueness   \n",
       "62            (2) uniqueness   \n",
       "63          (1) time addenta   \n",
       "64         (2) rules addenta   \n",
       "65      (3) feelings addenta   \n",
       "66      (4) feelings addenta   \n",
       "67     (5) expertise addenta   \n",
       "68     (6) expertise addenta   \n",
       "69  (7) support 24/7 addenta   \n",
       "70  (8) support 24/7 addenta   \n",
       "\n",
       "                                             examples  \n",
       "61  [What is your difference from other bots?, Wha...  \n",
       "62  [How can AI help with real life problems?, How...  \n",
       "63  [Do you have any working hours?, Is it true th...  \n",
       "64  [Can you listen to the voice messages?, Can I ...  \n",
       "65  [What if I will annoy you?, Can you get angry ...  \n",
       "66  [What human emotions do you know?, Can you tel...  \n",
       "67  [Do you have any successful cases of helping p...  \n",
       "68  [How long have you been helping people?, Can y...  \n",
       "69  [Can you provide me and my husband with family...  \n",
       "70  [Can you help children under 14?, Are you able...  "
      ]
     },
     "execution_count": 42,
     "metadata": {},
     "output_type": "execute_result"
    }
   ],
   "source": [
    "data.tail(10)"
   ]
  },
  {
   "cell_type": "code",
   "execution_count": null,
   "metadata": {
    "colab": {
     "base_uri": "https://localhost:8080/"
    },
    "id": "4LyCgEPxaHpA",
    "outputId": "11bb0eca-0e76-4528-b160-64fbb481ba47"
   },
   "outputs": [
    {
     "data": {
      "text/plain": [
       "array(['Hello', 'How are you?', 'What is this for?',\n",
       "       'How can you help me?', 'Are you a human?',\n",
       "       'What can you do for me?', 'How does it work?', 'Can I trust you?',\n",
       "       \"Why can't you understand me?\", 'What are you based on?',\n",
       "       'Why do i need you?', 'Why is coaching important?', 'ask_name',\n",
       "       'who_are_you', '(1) security', '(2) security', '(3) security',\n",
       "       '(4) security', '(5) security', '(6) security', '(1) replacement',\n",
       "       '(2) replacement', '(3) replacement', '(1) knowledge',\n",
       "       '(2) knowledge', '(3) knowledge', '(1) creator',\n",
       "       '(1) effectiveness', '(2) effectiveness', '(1) 24/7 support',\n",
       "       '(2) 24/7 support', '(1) benefits', '(1) rules', '(2) rules',\n",
       "       '(3) rules', '(4) rules', '(5) rules', '(1) no benefits',\n",
       "       '(2) no benefits', '(1) price', '(2) price', '(1) topics',\n",
       "       '(2) topics', '(3) topics', '(1) influence', '(1) analogy',\n",
       "       '(2) analogy', '(1) future', '(1) language', '(1) countries',\n",
       "       '(1) sharing', '(1) friends', '(1) discrimination', '(1) feelings',\n",
       "       '(2) feelings', '(1) help', '(1) data', '(1) condition',\n",
       "       '(1) bot mentor', '(1) bot mentor addenta', '(1) nature',\n",
       "       '(1) uniqueness', '(2) uniqueness', '(1) time addenta',\n",
       "       '(2) rules addenta', '(3) feelings addenta',\n",
       "       '(4) feelings addenta', '(5) expertise addenta',\n",
       "       '(6) expertise addenta', '(7) support 24/7 addenta',\n",
       "       '(8) support 24/7 addenta'], dtype=object)"
      ]
     },
     "execution_count": 43,
     "metadata": {},
     "output_type": "execute_result"
    }
   ],
   "source": [
    "data['intent'].unique()"
   ]
  },
  {
   "cell_type": "markdown",
   "metadata": {
    "id": "RbHi2P1HMCsO"
   },
   "source": [
    "**Вывод**\n",
    "\n",
    "* Очевидно, некоторые интенты повторяются и отличаются лишь цифрой в начале;\n",
    "* Также отметим, что некоторые интенты очень схожи семантически и их можно объединить (например, *How does it work?* и *What are you based on?*).\n",
    "\n",
    "Приступим к предобработке"
   ]
  },
  {
   "cell_type": "code",
   "execution_count": null,
   "metadata": {
    "id": "Vk3WS065-jNm"
   },
   "outputs": [],
   "source": [
    "df_clear = data.copy()"
   ]
  },
  {
   "cell_type": "markdown",
   "metadata": {
    "id": "P2Ev7pl2MoXO"
   },
   "source": [
    "С помощью регулярных выражений удаляем цифры в скобках перед названием некоторых интентов."
   ]
  },
  {
   "cell_type": "code",
   "execution_count": null,
   "metadata": {
    "id": "8tfJ-Vu184s8"
   },
   "outputs": [],
   "source": [
    "df_clear['intent'] = data['intent'].apply(lambda intent: re.sub(r'\\([^)]*\\)', '', intent).strip())"
   ]
  },
  {
   "cell_type": "markdown",
   "metadata": {
    "id": "LigQhRA1Mvnb"
   },
   "source": [
    "\"Распаковываем\" список с фразами, чтобы привести датасет к более удобному для обучения модели виду - каждая теперь будет отдельной строкой в датафрейме с соответствующей меткой интента."
   ]
  },
  {
   "cell_type": "code",
   "execution_count": null,
   "metadata": {
    "colab": {
     "base_uri": "https://localhost:8080/"
    },
    "id": "ZAmw0v1u9t97",
    "outputId": "800ddb4c-23db-4750-f93a-9bf813683e42"
   },
   "outputs": [
    {
     "data": {
      "text/plain": [
       "(483, 2)"
      ]
     },
     "execution_count": 46,
     "metadata": {},
     "output_type": "execute_result"
    }
   ],
   "source": [
    "df_clear = df_clear.explode('examples').reset_index(drop=True)\n",
    "df_clear.rename({'examples':'example'}, axis=1, inplace=True)\n",
    "df_clear.shape"
   ]
  },
  {
   "cell_type": "markdown",
   "metadata": {
    "id": "77Gxpe1jNC4h"
   },
   "source": [
    "Теперь у нас датафрейм содержит 483 наблюдения.\n",
    "\n",
    "Посмотрим количество уникальных интентов после манипуляций:\n",
    "\n",
    "Функция `unique_intents` принимает на вход датафрем и возвращает количество уникальных интентов + их список."
   ]
  },
  {
   "cell_type": "code",
   "execution_count": null,
   "metadata": {
    "colab": {
     "base_uri": "https://localhost:8080/"
    },
    "id": "QLaEzF7oBSS4",
    "outputId": "9a232e7e-137c-4c92-e7c4-216c0d174fc9"
   },
   "outputs": [
    {
     "name": "stdout",
     "output_type": "stream",
     "text": [
      "Amount of unique intents 46\n",
      "\n"
     ]
    },
    {
     "data": {
      "text/plain": [
       "array(['Hello', 'How are you?', 'What is this for?',\n",
       "       'How can you help me?', 'Are you a human?',\n",
       "       'What can you do for me?', 'How does it work?', 'Can I trust you?',\n",
       "       \"Why can't you understand me?\", 'What are you based on?',\n",
       "       'Why do i need you?', 'Why is coaching important?', 'ask_name',\n",
       "       'who_are_you', 'security', 'replacement', 'knowledge', 'creator',\n",
       "       'effectiveness', '24/7 support', 'benefits', 'rules',\n",
       "       'no benefits', 'price', 'topics', 'influence', 'analogy', 'future',\n",
       "       'language', 'countries', 'sharing', 'friends', 'discrimination',\n",
       "       'feelings', 'help', 'data', 'condition', 'bot mentor',\n",
       "       'bot mentor addenta', 'nature', 'uniqueness', 'time addenta',\n",
       "       'rules addenta', 'feelings addenta', 'expertise addenta',\n",
       "       'support 24/7 addenta'], dtype=object)"
      ]
     },
     "execution_count": 47,
     "metadata": {},
     "output_type": "execute_result"
    }
   ],
   "source": [
    "def unique_intents(df):\n",
    "    intents = df_clear['intent'].unique()\n",
    "    print('Amount of unique intents {0}\\n'.format(len(intents)))\n",
    "    return intents\n",
    "\n",
    "unique_intents(df_clear)"
   ]
  },
  {
   "cell_type": "markdown",
   "metadata": {
    "id": "PrSHNvM2NPZ_"
   },
   "source": [
    "Взглянем на одну фразу из каждого интента, чтобы определиться, какие интенты можно объединить в один класс."
   ]
  },
  {
   "cell_type": "code",
   "execution_count": null,
   "metadata": {
    "colab": {
     "base_uri": "https://localhost:8080/",
     "height": 1000
    },
    "id": "3rXPqxe3py0h",
    "outputId": "5ec82062-4e74-482d-f532-fe7fffc228db"
   },
   "outputs": [
    {
     "data": {
      "text/html": [
       "\n",
       "  <div id=\"df-4d48ded4-e126-445f-aac7-24dab1aa07c0\">\n",
       "    <div class=\"colab-df-container\">\n",
       "      <div>\n",
       "<style scoped>\n",
       "    .dataframe tbody tr th:only-of-type {\n",
       "        vertical-align: middle;\n",
       "    }\n",
       "\n",
       "    .dataframe tbody tr th {\n",
       "        vertical-align: top;\n",
       "    }\n",
       "\n",
       "    .dataframe thead th {\n",
       "        text-align: right;\n",
       "    }\n",
       "</style>\n",
       "<table border=\"1\" class=\"dataframe\">\n",
       "  <thead>\n",
       "    <tr style=\"text-align: right;\">\n",
       "      <th></th>\n",
       "      <th>example</th>\n",
       "    </tr>\n",
       "    <tr>\n",
       "      <th>intent</th>\n",
       "      <th></th>\n",
       "    </tr>\n",
       "  </thead>\n",
       "  <tbody>\n",
       "    <tr>\n",
       "      <th>24/7 support</th>\n",
       "      <td>How many messages do I need to write so that y...</td>\n",
       "    </tr>\n",
       "    <tr>\n",
       "      <th>Are you a human?</th>\n",
       "      <td>Are you a human?</td>\n",
       "    </tr>\n",
       "    <tr>\n",
       "      <th>Can I trust you?</th>\n",
       "      <td>Why can I trust you?</td>\n",
       "    </tr>\n",
       "    <tr>\n",
       "      <th>Hello</th>\n",
       "      <td>Hi</td>\n",
       "    </tr>\n",
       "    <tr>\n",
       "      <th>How are you?</th>\n",
       "      <td>How are you?</td>\n",
       "    </tr>\n",
       "    <tr>\n",
       "      <th>How can you help me?</th>\n",
       "      <td>How can you help me?</td>\n",
       "    </tr>\n",
       "    <tr>\n",
       "      <th>How does it work?</th>\n",
       "      <td>How does it work?</td>\n",
       "    </tr>\n",
       "    <tr>\n",
       "      <th>What are you based on?</th>\n",
       "      <td>Are you based on astrology?</td>\n",
       "    </tr>\n",
       "    <tr>\n",
       "      <th>What can you do for me?</th>\n",
       "      <td>What can you do for me?</td>\n",
       "    </tr>\n",
       "    <tr>\n",
       "      <th>What is this for?</th>\n",
       "      <td>What is this for?</td>\n",
       "    </tr>\n",
       "    <tr>\n",
       "      <th>Why can't you understand me?</th>\n",
       "      <td>Why can't you understand me?</td>\n",
       "    </tr>\n",
       "    <tr>\n",
       "      <th>Why do i need you?</th>\n",
       "      <td>Why do i need you?</td>\n",
       "    </tr>\n",
       "    <tr>\n",
       "      <th>Why is coaching important?</th>\n",
       "      <td>Why is coaching important?</td>\n",
       "    </tr>\n",
       "    <tr>\n",
       "      <th>analogy</th>\n",
       "      <td>Are there any analogues of you?</td>\n",
       "    </tr>\n",
       "    <tr>\n",
       "      <th>ask_name</th>\n",
       "      <td>What is your name?</td>\n",
       "    </tr>\n",
       "    <tr>\n",
       "      <th>benefits</th>\n",
       "      <td>How long does it take for me to feel the benef...</td>\n",
       "    </tr>\n",
       "    <tr>\n",
       "      <th>bot mentor</th>\n",
       "      <td>Do you have any supervision, or is it just you...</td>\n",
       "    </tr>\n",
       "    <tr>\n",
       "      <th>bot mentor addenta</th>\n",
       "      <td>Can you reconnect me to the real specialist?</td>\n",
       "    </tr>\n",
       "    <tr>\n",
       "      <th>condition</th>\n",
       "      <td>How will you learn about my condition?</td>\n",
       "    </tr>\n",
       "    <tr>\n",
       "      <th>countries</th>\n",
       "      <td>What countries are your clients from?</td>\n",
       "    </tr>\n",
       "    <tr>\n",
       "      <th>creator</th>\n",
       "      <td>Who is your creator?</td>\n",
       "    </tr>\n",
       "    <tr>\n",
       "      <th>data</th>\n",
       "      <td>Will you remember what I said?</td>\n",
       "    </tr>\n",
       "    <tr>\n",
       "      <th>discrimination</th>\n",
       "      <td>Does my gender, age, sexual orientation matter...</td>\n",
       "    </tr>\n",
       "    <tr>\n",
       "      <th>effectiveness</th>\n",
       "      <td>Is your effectiveness proven?</td>\n",
       "    </tr>\n",
       "    <tr>\n",
       "      <th>expertise addenta</th>\n",
       "      <td>Do you have any successful cases of helping pe...</td>\n",
       "    </tr>\n",
       "    <tr>\n",
       "      <th>feelings</th>\n",
       "      <td>Are you really empathetic and able to help me?</td>\n",
       "    </tr>\n",
       "    <tr>\n",
       "      <th>feelings addenta</th>\n",
       "      <td>What if I will annoy you?</td>\n",
       "    </tr>\n",
       "    <tr>\n",
       "      <th>friends</th>\n",
       "      <td>Do you have virtual friends?</td>\n",
       "    </tr>\n",
       "    <tr>\n",
       "      <th>future</th>\n",
       "      <td>Will you get new functions in the future?</td>\n",
       "    </tr>\n",
       "    <tr>\n",
       "      <th>help</th>\n",
       "      <td>Сan you really help me?</td>\n",
       "    </tr>\n",
       "    <tr>\n",
       "      <th>influence</th>\n",
       "      <td>Will you use my messages for your training/dev...</td>\n",
       "    </tr>\n",
       "    <tr>\n",
       "      <th>knowledge</th>\n",
       "      <td>How are you learning?</td>\n",
       "    </tr>\n",
       "    <tr>\n",
       "      <th>language</th>\n",
       "      <td>What languages do you speak?</td>\n",
       "    </tr>\n",
       "    <tr>\n",
       "      <th>nature</th>\n",
       "      <td>Are you a real human or a robot?</td>\n",
       "    </tr>\n",
       "    <tr>\n",
       "      <th>no benefits</th>\n",
       "      <td>What if you can't help me?</td>\n",
       "    </tr>\n",
       "    <tr>\n",
       "      <th>price</th>\n",
       "      <td>Are you working for free?</td>\n",
       "    </tr>\n",
       "    <tr>\n",
       "      <th>replacement</th>\n",
       "      <td>Can I speak with you instead of going to a the...</td>\n",
       "    </tr>\n",
       "    <tr>\n",
       "      <th>rules</th>\n",
       "      <td>What should I not do when talking to you?</td>\n",
       "    </tr>\n",
       "    <tr>\n",
       "      <th>rules addenta</th>\n",
       "      <td>Can you listen to the voice messages?</td>\n",
       "    </tr>\n",
       "    <tr>\n",
       "      <th>security</th>\n",
       "      <td>Are our conversations private?</td>\n",
       "    </tr>\n",
       "    <tr>\n",
       "      <th>sharing</th>\n",
       "      <td>Can I tell my friends about you?</td>\n",
       "    </tr>\n",
       "    <tr>\n",
       "      <th>support 24/7 addenta</th>\n",
       "      <td>Can you provide me and my husband with family ...</td>\n",
       "    </tr>\n",
       "    <tr>\n",
       "      <th>time addenta</th>\n",
       "      <td>Do you have any working hours?</td>\n",
       "    </tr>\n",
       "    <tr>\n",
       "      <th>topics</th>\n",
       "      <td>Can you help to cope with diseases such as dep...</td>\n",
       "    </tr>\n",
       "    <tr>\n",
       "      <th>uniqueness</th>\n",
       "      <td>What is your difference from other bots?</td>\n",
       "    </tr>\n",
       "    <tr>\n",
       "      <th>who_are_you</th>\n",
       "      <td>Who are U?</td>\n",
       "    </tr>\n",
       "  </tbody>\n",
       "</table>\n",
       "</div>\n",
       "      <button class=\"colab-df-convert\" onclick=\"convertToInteractive('df-4d48ded4-e126-445f-aac7-24dab1aa07c0')\"\n",
       "              title=\"Convert this dataframe to an interactive table.\"\n",
       "              style=\"display:none;\">\n",
       "        \n",
       "  <svg xmlns=\"http://www.w3.org/2000/svg\" height=\"24px\"viewBox=\"0 0 24 24\"\n",
       "       width=\"24px\">\n",
       "    <path d=\"M0 0h24v24H0V0z\" fill=\"none\"/>\n",
       "    <path d=\"M18.56 5.44l.94 2.06.94-2.06 2.06-.94-2.06-.94-.94-2.06-.94 2.06-2.06.94zm-11 1L8.5 8.5l.94-2.06 2.06-.94-2.06-.94L8.5 2.5l-.94 2.06-2.06.94zm10 10l.94 2.06.94-2.06 2.06-.94-2.06-.94-.94-2.06-.94 2.06-2.06.94z\"/><path d=\"M17.41 7.96l-1.37-1.37c-.4-.4-.92-.59-1.43-.59-.52 0-1.04.2-1.43.59L10.3 9.45l-7.72 7.72c-.78.78-.78 2.05 0 2.83L4 21.41c.39.39.9.59 1.41.59.51 0 1.02-.2 1.41-.59l7.78-7.78 2.81-2.81c.8-.78.8-2.07 0-2.86zM5.41 20L4 18.59l7.72-7.72 1.47 1.35L5.41 20z\"/>\n",
       "  </svg>\n",
       "      </button>\n",
       "      \n",
       "  <style>\n",
       "    .colab-df-container {\n",
       "      display:flex;\n",
       "      flex-wrap:wrap;\n",
       "      gap: 12px;\n",
       "    }\n",
       "\n",
       "    .colab-df-convert {\n",
       "      background-color: #E8F0FE;\n",
       "      border: none;\n",
       "      border-radius: 50%;\n",
       "      cursor: pointer;\n",
       "      display: none;\n",
       "      fill: #1967D2;\n",
       "      height: 32px;\n",
       "      padding: 0 0 0 0;\n",
       "      width: 32px;\n",
       "    }\n",
       "\n",
       "    .colab-df-convert:hover {\n",
       "      background-color: #E2EBFA;\n",
       "      box-shadow: 0px 1px 2px rgba(60, 64, 67, 0.3), 0px 1px 3px 1px rgba(60, 64, 67, 0.15);\n",
       "      fill: #174EA6;\n",
       "    }\n",
       "\n",
       "    [theme=dark] .colab-df-convert {\n",
       "      background-color: #3B4455;\n",
       "      fill: #D2E3FC;\n",
       "    }\n",
       "\n",
       "    [theme=dark] .colab-df-convert:hover {\n",
       "      background-color: #434B5C;\n",
       "      box-shadow: 0px 1px 3px 1px rgba(0, 0, 0, 0.15);\n",
       "      filter: drop-shadow(0px 1px 2px rgba(0, 0, 0, 0.3));\n",
       "      fill: #FFFFFF;\n",
       "    }\n",
       "  </style>\n",
       "\n",
       "      <script>\n",
       "        const buttonEl =\n",
       "          document.querySelector('#df-4d48ded4-e126-445f-aac7-24dab1aa07c0 button.colab-df-convert');\n",
       "        buttonEl.style.display =\n",
       "          google.colab.kernel.accessAllowed ? 'block' : 'none';\n",
       "\n",
       "        async function convertToInteractive(key) {\n",
       "          const element = document.querySelector('#df-4d48ded4-e126-445f-aac7-24dab1aa07c0');\n",
       "          const dataTable =\n",
       "            await google.colab.kernel.invokeFunction('convertToInteractive',\n",
       "                                                     [key], {});\n",
       "          if (!dataTable) return;\n",
       "\n",
       "          const docLinkHtml = 'Like what you see? Visit the ' +\n",
       "            '<a target=\"_blank\" href=https://colab.research.google.com/notebooks/data_table.ipynb>data table notebook</a>'\n",
       "            + ' to learn more about interactive tables.';\n",
       "          element.innerHTML = '';\n",
       "          dataTable['output_type'] = 'display_data';\n",
       "          await google.colab.output.renderOutput(dataTable, element);\n",
       "          const docLink = document.createElement('div');\n",
       "          docLink.innerHTML = docLinkHtml;\n",
       "          element.appendChild(docLink);\n",
       "        }\n",
       "      </script>\n",
       "    </div>\n",
       "  </div>\n",
       "  "
      ],
      "text/plain": [
       "                                                                        example\n",
       "intent                                                                         \n",
       "24/7 support                  How many messages do I need to write so that y...\n",
       "Are you a human?                                               Are you a human?\n",
       "Can I trust you?                                           Why can I trust you?\n",
       "Hello                                                                        Hi\n",
       "How are you?                                                       How are you?\n",
       "How can you help me?                                       How can you help me?\n",
       "How does it work?                                             How does it work?\n",
       "What are you based on?                              Are you based on astrology?\n",
       "What can you do for me?                                 What can you do for me?\n",
       "What is this for?                                             What is this for?\n",
       "Why can't you understand me?                       Why can't you understand me?\n",
       "Why do i need you?                                           Why do i need you?\n",
       "Why is coaching important?                           Why is coaching important?\n",
       "analogy                                         Are there any analogues of you?\n",
       "ask_name                                                     What is your name?\n",
       "benefits                      How long does it take for me to feel the benef...\n",
       "bot mentor                    Do you have any supervision, or is it just you...\n",
       "bot mentor addenta                 Can you reconnect me to the real specialist?\n",
       "condition                                How will you learn about my condition?\n",
       "countries                                 What countries are your clients from?\n",
       "creator                                                    Who is your creator?\n",
       "data                                             Will you remember what I said?\n",
       "discrimination                Does my gender, age, sexual orientation matter...\n",
       "effectiveness                                     Is your effectiveness proven?\n",
       "expertise addenta             Do you have any successful cases of helping pe...\n",
       "feelings                         Are you really empathetic and able to help me?\n",
       "feelings addenta                                      What if I will annoy you?\n",
       "friends                                            Do you have virtual friends?\n",
       "future                                Will you get new functions in the future?\n",
       "help                                                    Сan you really help me?\n",
       "influence                     Will you use my messages for your training/dev...\n",
       "knowledge                                                 How are you learning?\n",
       "language                                           What languages do you speak?\n",
       "nature                                         Are you a real human or a robot?\n",
       "no benefits                                          What if you can't help me?\n",
       "price                                                 Are you working for free?\n",
       "replacement                   Can I speak with you instead of going to a the...\n",
       "rules                                 What should I not do when talking to you?\n",
       "rules addenta                             Can you listen to the voice messages?\n",
       "security                                         Are our conversations private?\n",
       "sharing                                        Can I tell my friends about you?\n",
       "support 24/7 addenta          Can you provide me and my husband with family ...\n",
       "time addenta                                     Do you have any working hours?\n",
       "topics                        Can you help to cope with diseases such as dep...\n",
       "uniqueness                             What is your difference from other bots?\n",
       "who_are_you                                                          Who are U?"
      ]
     },
     "execution_count": 48,
     "metadata": {},
     "output_type": "execute_result"
    }
   ],
   "source": [
    "df_clear.groupby('intent').first()"
   ]
  },
  {
   "cell_type": "markdown",
   "metadata": {
    "id": "jTudO3ts8tiX"
   },
   "source": [
    "Какие интенты объединяем, так как у них один смысл?\n",
    "\n",
    "Жирным выделен объединяющий интент, далее в этой же строке схожие интенты.\n",
    "\n",
    "* **knowledge**, How does it work?, What are you based on?\n",
    "* **nature**, who_are_you, \tAre you a human?\n",
    "* **help**, How can you help me?, What can you do for me?, What is this for?\n",
    "* **security**, Can I trust you?\n",
    "* **effectiveness**, What can you do for me?\n",
    "* **benefits**, Why do i need you?\n",
    "* **24/7 Support**, Why can't you understand me?\t"
   ]
  },
  {
   "cell_type": "code",
   "execution_count": null,
   "metadata": {
    "id": "v_2hV0LL8pkn"
   },
   "outputs": [],
   "source": [
    "dict_for_replace = {\n",
    "   'How does it work?': 'knowledge',\n",
    "   'What are you based on?': 'knowledge',\n",
    "   'who_are_you': 'nature',\n",
    "   'Are you a human?': 'nature',\n",
    "   'How can you help me?': 'help',\n",
    "   'What can you do for me?': 'help',\n",
    "   'What is this for?': 'help',\n",
    "   'Can I trust you?': 'security',\n",
    "   'What can you do for me?': 'effectiveness',\n",
    "   'Why do i need you?': 'benefits',\n",
    "   \"Why can't you understand me?\": '24/7 support'\n",
    "}\n",
    "\n",
    "df_clear = df_clear.replace({'intent': dict_for_replace})"
   ]
  },
  {
   "cell_type": "code",
   "execution_count": null,
   "metadata": {
    "colab": {
     "base_uri": "https://localhost:8080/"
    },
    "id": "hRZhwtnQ8oYu",
    "outputId": "3e3e21b3-7a22-47c1-b7e8-d96bd52dc04a"
   },
   "outputs": [
    {
     "data": {
      "text/plain": [
       "knowledge                     45\n",
       "security                      36\n",
       "rules                         25\n",
       "help                          21\n",
       "uniqueness                    20\n",
       "topics                        20\n",
       "24/7 support                  19\n",
       "effectiveness                 16\n",
       "analogy                       15\n",
       "expertise addenta             15\n",
       "feelings                      15\n",
       "support 24/7 addenta          15\n",
       "replacement                   15\n",
       "nature                        15\n",
       "ask_name                      14\n",
       "How are you?                  11\n",
       "language                      11\n",
       "benefits                      11\n",
       "Hello                         10\n",
       "condition                     10\n",
       "data                          10\n",
       "Why is coaching important?    10\n",
       "rules addenta                 10\n",
       "sharing                       10\n",
       "feelings addenta              10\n",
       "price                         10\n",
       "no benefits                   10\n",
       "bot mentor addenta            10\n",
       "bot mentor                     9\n",
       "time addenta                   5\n",
       "creator                        5\n",
       "friends                        5\n",
       "countries                      5\n",
       "future                         5\n",
       "influence                      5\n",
       "discrimination                 5\n",
       "Name: intent, dtype: int64"
      ]
     },
     "execution_count": 50,
     "metadata": {},
     "output_type": "execute_result"
    }
   ],
   "source": [
    "df_clear['intent'].value_counts()"
   ]
  },
  {
   "cell_type": "code",
   "execution_count": null,
   "metadata": {
    "colab": {
     "base_uri": "https://localhost:8080/"
    },
    "id": "sBmi5OzMOO9a",
    "outputId": "8f1e4527-3880-403d-c261-abc7eb45b132"
   },
   "outputs": [
    {
     "name": "stdout",
     "output_type": "stream",
     "text": [
      "Amount of unique intents 36\n",
      "\n"
     ]
    },
    {
     "data": {
      "text/plain": [
       "array(['Hello', 'How are you?', 'help', 'nature', 'effectiveness',\n",
       "       'knowledge', 'security', '24/7 support', 'benefits',\n",
       "       'Why is coaching important?', 'ask_name', 'replacement', 'creator',\n",
       "       'rules', 'no benefits', 'price', 'topics', 'influence', 'analogy',\n",
       "       'future', 'language', 'countries', 'sharing', 'friends',\n",
       "       'discrimination', 'feelings', 'data', 'condition', 'bot mentor',\n",
       "       'bot mentor addenta', 'uniqueness', 'time addenta',\n",
       "       'rules addenta', 'feelings addenta', 'expertise addenta',\n",
       "       'support 24/7 addenta'], dtype=object)"
      ]
     },
     "execution_count": 51,
     "metadata": {},
     "output_type": "execute_result"
    }
   ],
   "source": [
    "unique_intents(df_clear)"
   ]
  },
  {
   "cell_type": "markdown",
   "metadata": {
    "id": "tl9T6f_FObCB"
   },
   "source": [
    "Отлично, у нас осталось 36 интентов - они и будут метками в задачи мультиклассовой классификации.\n",
    "\n",
    "Взглянем на выборку случайных 10 наблюдений, чтобы оценить адекватность получившихся данных."
   ]
  },
  {
   "cell_type": "code",
   "execution_count": null,
   "metadata": {
    "colab": {
     "base_uri": "https://localhost:8080/",
     "height": 363
    },
    "id": "wWPvAGXGFcuW",
    "outputId": "368796eb-f1bc-400b-abda-c9aafd7be4ac"
   },
   "outputs": [
    {
     "data": {
      "text/html": [
       "\n",
       "  <div id=\"df-1ecfb9d4-029d-4a20-b1f0-8ab6998fd955\">\n",
       "    <div class=\"colab-df-container\">\n",
       "      <div>\n",
       "<style scoped>\n",
       "    .dataframe tbody tr th:only-of-type {\n",
       "        vertical-align: middle;\n",
       "    }\n",
       "\n",
       "    .dataframe tbody tr th {\n",
       "        vertical-align: top;\n",
       "    }\n",
       "\n",
       "    .dataframe thead th {\n",
       "        text-align: right;\n",
       "    }\n",
       "</style>\n",
       "<table border=\"1\" class=\"dataframe\">\n",
       "  <thead>\n",
       "    <tr style=\"text-align: right;\">\n",
       "      <th></th>\n",
       "      <th>intent</th>\n",
       "      <th>example</th>\n",
       "    </tr>\n",
       "  </thead>\n",
       "  <tbody>\n",
       "    <tr>\n",
       "      <th>121</th>\n",
       "      <td>security</td>\n",
       "      <td>How could I trust you?</td>\n",
       "    </tr>\n",
       "    <tr>\n",
       "      <th>298</th>\n",
       "      <td>language</td>\n",
       "      <td>What languages do you speak?</td>\n",
       "    </tr>\n",
       "    <tr>\n",
       "      <th>179</th>\n",
       "      <td>effectiveness</td>\n",
       "      <td>Are you really effective?</td>\n",
       "    </tr>\n",
       "    <tr>\n",
       "      <th>103</th>\n",
       "      <td>nature</td>\n",
       "      <td>Who are You?</td>\n",
       "    </tr>\n",
       "    <tr>\n",
       "      <th>170</th>\n",
       "      <td>creator</td>\n",
       "      <td>Who is your creator?</td>\n",
       "    </tr>\n",
       "    <tr>\n",
       "      <th>402</th>\n",
       "      <td>nature</td>\n",
       "      <td>Am I talking to a robot?</td>\n",
       "    </tr>\n",
       "    <tr>\n",
       "      <th>21</th>\n",
       "      <td>help</td>\n",
       "      <td>What is this for?</td>\n",
       "    </tr>\n",
       "    <tr>\n",
       "      <th>309</th>\n",
       "      <td>countries</td>\n",
       "      <td>What countries are your clients from?</td>\n",
       "    </tr>\n",
       "    <tr>\n",
       "      <th>366</th>\n",
       "      <td>data</td>\n",
       "      <td>Do I have to remind you of me?</td>\n",
       "    </tr>\n",
       "    <tr>\n",
       "      <th>403</th>\n",
       "      <td>nature</td>\n",
       "      <td>Who are you?</td>\n",
       "    </tr>\n",
       "  </tbody>\n",
       "</table>\n",
       "</div>\n",
       "      <button class=\"colab-df-convert\" onclick=\"convertToInteractive('df-1ecfb9d4-029d-4a20-b1f0-8ab6998fd955')\"\n",
       "              title=\"Convert this dataframe to an interactive table.\"\n",
       "              style=\"display:none;\">\n",
       "        \n",
       "  <svg xmlns=\"http://www.w3.org/2000/svg\" height=\"24px\"viewBox=\"0 0 24 24\"\n",
       "       width=\"24px\">\n",
       "    <path d=\"M0 0h24v24H0V0z\" fill=\"none\"/>\n",
       "    <path d=\"M18.56 5.44l.94 2.06.94-2.06 2.06-.94-2.06-.94-.94-2.06-.94 2.06-2.06.94zm-11 1L8.5 8.5l.94-2.06 2.06-.94-2.06-.94L8.5 2.5l-.94 2.06-2.06.94zm10 10l.94 2.06.94-2.06 2.06-.94-2.06-.94-.94-2.06-.94 2.06-2.06.94z\"/><path d=\"M17.41 7.96l-1.37-1.37c-.4-.4-.92-.59-1.43-.59-.52 0-1.04.2-1.43.59L10.3 9.45l-7.72 7.72c-.78.78-.78 2.05 0 2.83L4 21.41c.39.39.9.59 1.41.59.51 0 1.02-.2 1.41-.59l7.78-7.78 2.81-2.81c.8-.78.8-2.07 0-2.86zM5.41 20L4 18.59l7.72-7.72 1.47 1.35L5.41 20z\"/>\n",
       "  </svg>\n",
       "      </button>\n",
       "      \n",
       "  <style>\n",
       "    .colab-df-container {\n",
       "      display:flex;\n",
       "      flex-wrap:wrap;\n",
       "      gap: 12px;\n",
       "    }\n",
       "\n",
       "    .colab-df-convert {\n",
       "      background-color: #E8F0FE;\n",
       "      border: none;\n",
       "      border-radius: 50%;\n",
       "      cursor: pointer;\n",
       "      display: none;\n",
       "      fill: #1967D2;\n",
       "      height: 32px;\n",
       "      padding: 0 0 0 0;\n",
       "      width: 32px;\n",
       "    }\n",
       "\n",
       "    .colab-df-convert:hover {\n",
       "      background-color: #E2EBFA;\n",
       "      box-shadow: 0px 1px 2px rgba(60, 64, 67, 0.3), 0px 1px 3px 1px rgba(60, 64, 67, 0.15);\n",
       "      fill: #174EA6;\n",
       "    }\n",
       "\n",
       "    [theme=dark] .colab-df-convert {\n",
       "      background-color: #3B4455;\n",
       "      fill: #D2E3FC;\n",
       "    }\n",
       "\n",
       "    [theme=dark] .colab-df-convert:hover {\n",
       "      background-color: #434B5C;\n",
       "      box-shadow: 0px 1px 3px 1px rgba(0, 0, 0, 0.15);\n",
       "      filter: drop-shadow(0px 1px 2px rgba(0, 0, 0, 0.3));\n",
       "      fill: #FFFFFF;\n",
       "    }\n",
       "  </style>\n",
       "\n",
       "      <script>\n",
       "        const buttonEl =\n",
       "          document.querySelector('#df-1ecfb9d4-029d-4a20-b1f0-8ab6998fd955 button.colab-df-convert');\n",
       "        buttonEl.style.display =\n",
       "          google.colab.kernel.accessAllowed ? 'block' : 'none';\n",
       "\n",
       "        async function convertToInteractive(key) {\n",
       "          const element = document.querySelector('#df-1ecfb9d4-029d-4a20-b1f0-8ab6998fd955');\n",
       "          const dataTable =\n",
       "            await google.colab.kernel.invokeFunction('convertToInteractive',\n",
       "                                                     [key], {});\n",
       "          if (!dataTable) return;\n",
       "\n",
       "          const docLinkHtml = 'Like what you see? Visit the ' +\n",
       "            '<a target=\"_blank\" href=https://colab.research.google.com/notebooks/data_table.ipynb>data table notebook</a>'\n",
       "            + ' to learn more about interactive tables.';\n",
       "          element.innerHTML = '';\n",
       "          dataTable['output_type'] = 'display_data';\n",
       "          await google.colab.output.renderOutput(dataTable, element);\n",
       "          const docLink = document.createElement('div');\n",
       "          docLink.innerHTML = docLinkHtml;\n",
       "          element.appendChild(docLink);\n",
       "        }\n",
       "      </script>\n",
       "    </div>\n",
       "  </div>\n",
       "  "
      ],
      "text/plain": [
       "            intent                                example\n",
       "121       security                 How could I trust you?\n",
       "298       language           What languages do you speak?\n",
       "179  effectiveness              Are you really effective?\n",
       "103         nature                           Who are You?\n",
       "170        creator                   Who is your creator?\n",
       "402         nature               Am I talking to a robot?\n",
       "21            help                      What is this for?\n",
       "309      countries  What countries are your clients from?\n",
       "366           data         Do I have to remind you of me?\n",
       "403         nature                           Who are you?"
      ]
     },
     "execution_count": 15,
     "metadata": {},
     "output_type": "execute_result"
    }
   ],
   "source": [
    "df_clear.sample(10)"
   ]
  },
  {
   "cell_type": "markdown",
   "metadata": {
    "id": "47tyz2LHOvz9"
   },
   "source": [
    "## Подготовка выборок для обучения\n",
    "\n",
    "Приведём все фразы к нижнему регистру."
   ]
  },
  {
   "cell_type": "code",
   "execution_count": null,
   "metadata": {
    "id": "5Ur7zD-dEVD2"
   },
   "outputs": [],
   "source": [
    "df_clear['example'] = df_clear['example'].apply(lambda sen: sen.lower())"
   ]
  },
  {
   "cell_type": "markdown",
   "metadata": {
    "id": "b4d7P2gxO5jT"
   },
   "source": [
    "Целевую метку (интент) закодируем цифрой с помощью функции `LabelEncoder` из библиотеки `sklearn`."
   ]
  },
  {
   "cell_type": "code",
   "execution_count": null,
   "metadata": {
    "id": "6bGR7BbzYU2j"
   },
   "outputs": [],
   "source": [
    "le = LabelEncoder()\n",
    "df_clear['intent'] = le.fit_transform(df_clear['intent'])"
   ]
  },
  {
   "cell_type": "code",
   "execution_count": null,
   "metadata": {
    "colab": {
     "base_uri": "https://localhost:8080/"
    },
    "id": "sUvP1hfHEv_Z",
    "outputId": "caa85210-1b58-422d-c993-5223f41debff"
   },
   "outputs": [
    {
     "data": {
      "text/plain": [
       "((386, 2), (97, 2))"
      ]
     },
     "execution_count": 54,
     "metadata": {},
     "output_type": "execute_result"
    }
   ],
   "source": [
    "train_data, test_data = train_test_split(df_clear, test_size=0.2,\n",
    "                                         stratify=df_clear['intent'], \n",
    "                                         random_state=RANDOM_STATE,\n",
    "                                         shuffle=True)\n",
    "train_data.shape, test_data.shape"
   ]
  },
  {
   "cell_type": "markdown",
   "metadata": {
    "id": "Nw43FCe9P4Bi"
   },
   "source": [
    "## Дообучение нейросети"
   ]
  },
  {
   "cell_type": "markdown",
   "metadata": {
    "id": "AaSbwP1gPKIW"
   },
   "source": [
    "При токенизации все наши фразы приобретут одинаковый размер вектора: это количество символов в самой длинной фразе."
   ]
  },
  {
   "cell_type": "code",
   "execution_count": null,
   "metadata": {
    "colab": {
     "base_uri": "https://localhost:8080/"
    },
    "id": "21qXO9ga_Hgv",
    "outputId": "b99a94bb-a3e0-4c1a-8937-2cd2a3ca6cef"
   },
   "outputs": [
    {
     "data": {
      "text/plain": [
       "94"
      ]
     },
     "execution_count": 19,
     "metadata": {},
     "output_type": "execute_result"
    }
   ],
   "source": [
    "max_length = max(df_clear['example'].apply(len))\n",
    "max_length"
   ]
  },
  {
   "cell_type": "markdown",
   "metadata": {
    "id": "FPM7ZnKWQEpO"
   },
   "source": [
    "Класс `Dataset` наследуется от `torch.utils.data.Dataset`.\n",
    "1. Принимает на вход итерируемый датасет вместе с метками; \n",
    "1. Далее выделяет в отдельный объект целевые метки;\n",
    "1. Токенизирует тексты по словарю для передачи в виде `torch.Tensor` уже в модель BERT.\n",
    "1. Возвращает батч с токенизированными текстами и соответствующие ему метки."
   ]
  },
  {
   "cell_type": "code",
   "execution_count": null,
   "metadata": {
    "execution": {
     "iopub.execute_input": "2022-01-29T07:46:05.709652Z",
     "iopub.status.busy": "2022-01-29T07:46:05.708881Z",
     "iopub.status.idle": "2022-01-29T07:46:05.718204Z",
     "shell.execute_reply": "2022-01-29T07:46:05.717336Z",
     "shell.execute_reply.started": "2022-01-29T07:46:05.709595Z"
    },
    "id": "BTJz_6gG96y0"
   },
   "outputs": [],
   "source": [
    "labels = {}\n",
    "class Dataset(torch.utils.data.Dataset):\n",
    "    def __init__(self,df):\n",
    "        self.labels = [labels[label] for label in df_clear['intent']]\n",
    "        self.text = [tokenizer(example, padding='max_length', \n",
    "                               max_length=max_length, truncation=True, \n",
    "                               return_tensors='pt', add_special_tokens=True\n",
    "                               ) for example in df_clear['example']]\n",
    "    def classes(self):\n",
    "        return self.labels\n",
    "    def __len__(self):\n",
    "        return len(self.labels)\n",
    "    def get_batch_labels(self,idx):\n",
    "        return np.array(self.labels[idx])\n",
    "    def get_batch_texts(self,idx):\n",
    "        return self.text[idx]\n",
    "    def __getitem__(self,idx):\n",
    "        batch_texts = self.get_batch_texts(idx)\n",
    "        batch_y = self.get_batch_labels(idx)\n",
    "        \n",
    "        return batch_texts, batch_y"
   ]
  },
  {
   "cell_type": "code",
   "execution_count": null,
   "metadata": {
    "execution": {
     "iopub.execute_input": "2022-01-29T07:47:22.12579Z",
     "iopub.status.busy": "2022-01-29T07:47:22.125097Z",
     "iopub.status.idle": "2022-01-29T07:47:22.13117Z",
     "shell.execute_reply": "2022-01-29T07:47:22.130376Z",
     "shell.execute_reply.started": "2022-01-29T07:47:22.12575Z"
    },
    "id": "2jg2uZE296y3"
   },
   "outputs": [],
   "source": [
    "k = 0\n",
    "for i in df_clear['intent'].unique():\n",
    "    labels[i] = k\n",
    "    k+=1"
   ]
  },
  {
   "cell_type": "markdown",
   "metadata": {
    "id": "O0bsFtWLREF9"
   },
   "source": [
    "Класс `BertClassifier` является подклассом от `nn.Module`, в нём инициализируется архитектура сети.\n",
    "* В нашем случае мы добавляем 2 полносвязных линейных слоя, последний слой имеет 36 выходящих нейронов - соответствует количеству классов в нашей задаче классификации;\n",
    "* Для регуляризации используем технику `DropOut` которая с вероятностью 0.5 обнуляет некоторые элементы входного тензора данных."
   ]
  },
  {
   "cell_type": "code",
   "execution_count": null,
   "metadata": {
    "execution": {
     "iopub.execute_input": "2022-01-29T07:48:37.694866Z",
     "iopub.status.busy": "2022-01-29T07:48:37.694116Z",
     "iopub.status.idle": "2022-01-29T07:48:37.704217Z",
     "shell.execute_reply": "2022-01-29T07:48:37.703368Z",
     "shell.execute_reply.started": "2022-01-29T07:48:37.694817Z"
    },
    "id": "2NQi7YVF96y4"
   },
   "outputs": [],
   "source": [
    "class BertClassifier(nn.Module):\n",
    "    def __init__(self, dropout=0.5):\n",
    "        super(BertClassifier, self).__init__()\n",
    "        self.bert = model\n",
    "        self.drop = nn.Dropout(dropout)\n",
    "        self.dense = nn.Linear(768, 384)\n",
    "        self.out = nn.Linear(384, 36)\n",
    "    def forward(self, inp, msk):\n",
    "        _, bert_out = self.bert(input_ids=inp, attention_mask=msk, return_dict=False)\n",
    "        dropped_bert_out = self.drop(bert_out)\n",
    "        activated_output = F.relu(self.dense(dropped_bert_out))\n",
    "        fin_output = self.out(activated_output)\n",
    "        return fin_output"
   ]
  },
  {
   "cell_type": "markdown",
   "metadata": {
    "id": "ClWt4Ro6TGBv"
   },
   "source": [
    "Функция `train` занимается непосредственно получением эмбеддингов и построением модели-классификатора на них.\n",
    "\n",
    "* В переменные `train_loader` и `test_loader` помещаются обучающие и тестовые выборки, разделенные по размеру батча;\n",
    "* При возможности использовать GPU для обучения - используем GPU;\n",
    "* В качестве оптимизатора используем **Adam**, шаг обучения задается как аргумент `learning_rate`;\n",
    "* Лосс (функцию потерь) считаем для каждого сэмпла данных с помощью `CrossEntropyLoss` - традиционный выбор для задач мультиклассификации;\n",
    "* На каждой итерации (для каждого  сэмпла) лосс и accuracy сохраняем в список. В конце каждой эпохи усредняем по количеству сэмплов;\n",
    "* После обучения модели подсчитываем лосс и accuracy для образцов тестовой выборки;\n",
    "* Визуализируем изменение лосса и accuracy для каждой эпохи обучающей и тестовой выборки."
   ]
  },
  {
   "cell_type": "code",
   "execution_count": null,
   "metadata": {
    "execution": {
     "iopub.execute_input": "2022-01-29T08:01:48.892931Z",
     "iopub.status.busy": "2022-01-29T08:01:48.892278Z",
     "iopub.status.idle": "2022-01-29T08:01:48.909454Z",
     "shell.execute_reply": "2022-01-29T08:01:48.908568Z",
     "shell.execute_reply.started": "2022-01-29T08:01:48.892858Z"
    },
    "id": "lE7OXCTj96y5"
   },
   "outputs": [],
   "source": [
    "def train(model, train, test, learning_rate, epochs, batch_size):\n",
    "    train_loader = torch.utils.data.DataLoader(train, batch_size=batch_size, shuffle=True)\n",
    "    test_loader = torch.utils.data.DataLoader(test, batch_size=batch_size, shuffle=True)\n",
    "    \n",
    "    device = torch.device('cuda' if torch.cuda.is_available() else 'cpu')\n",
    "    optimizer = torch.optim.Adam(model.parameters(), lr=learning_rate)\n",
    "    criterion = nn.CrossEntropyLoss()\n",
    "    \n",
    "    if torch.cuda.is_available():\n",
    "        model = model.cuda()\n",
    "        criterion = criterion.cuda()\n",
    "\n",
    "    train_loss_lst = []\n",
    "    test_loss_lst = []\n",
    "    train_acc_lst = []\n",
    "    test_acc_lst = []\n",
    "\n",
    "    for i in range(epochs):\n",
    "        train_loss = 0.0\n",
    "        test_loss = 0.0\n",
    "        train_acc = 0.0\n",
    "        test_acc = 0.0\n",
    "\n",
    "        for train_input, train_label in tqdm(train_loader):\n",
    "            train_label = train_label.to(device)\n",
    "            mask = train_input['attention_mask'].to(device)\n",
    "            train_id = train_input['input_ids'].squeeze(1).to(device)\n",
    "            \n",
    "            output = model(train_id, mask)\n",
    "            loss = criterion(output, train_label)\n",
    "            train_loss += loss.item()\n",
    "            train_acc += ((output.argmax(dim=1) == train_label).sum().item())\n",
    "\n",
    "            model.zero_grad()\n",
    "            loss.backward()\n",
    "            optimizer.step()\n",
    "\n",
    "        train_loss_lst.append(train_loss / len(train))\n",
    "        train_acc_lst.append(train_acc / len(train))\n",
    "\n",
    "        with torch.no_grad():\n",
    "            \n",
    "            for test_input, test_label in test_loader:\n",
    "                test_label = test_label.to(device)\n",
    "                mask = test_input['attention_mask'].to(device)\n",
    "                test_id = test_input['input_ids'].squeeze(1).to(device)\n",
    "                \n",
    "                output = model(test_id, mask)\n",
    "                loss = criterion(output, test_label)\n",
    "                test_loss += loss.item()\n",
    "                test_acc += ((output.argmax(dim=1) == test_label).sum().item())\n",
    "            test_loss_lst.append(test_loss / len(test))\n",
    "            test_acc_lst.append(test_acc / len(test))\n",
    "    \n",
    "    torch.save({\n",
    "            'model_state_dict': model.state_dict(),\n",
    "            'optimizer_state_dict': optimizer.state_dict(),\n",
    "               }, 'XLMRoberta_pre-trained_evolwe.pt')\n",
    "\n",
    "    fig, ax = plt.subplots(1, 2, figsize=(18, 8))\n",
    "    plt.suptitle('Динамика показателей по эпохам', fontsize=24, y=1.02)\n",
    "    ax[0].plot(train_loss_lst, label='Loss on train')\n",
    "    ax[0].plot(test_loss_lst, label='Loss on test')\n",
    "    ax[0].legend()\n",
    "    ax[1].plot(train_acc_lst, label='Accuracy on train')\n",
    "    ax[1].plot(test_acc_lst, label='Accuracy on test')\n",
    "    ax[1].legend()\n",
    "    \n",
    "    ax[0].set_title('Функция потерь', fontsize=16)\n",
    "    ax[0].set_xlabel('Номер эпохи', fontsize = 14)\n",
    "    ax[1].set_title('Accuracy', fontsize = 16)\n",
    "    ax[1].set_xlabel('Номер эпохи', fontsize = 14)\n",
    "\n",
    "    return model"
   ]
  },
  {
   "cell_type": "markdown",
   "metadata": {
    "id": "8brr9z13VWCI"
   },
   "source": [
    "Обучаем сеть в течение 20 эпох, передавая данные батчами по 8 текстов (фраз)."
   ]
  },
  {
   "cell_type": "code",
   "execution_count": null,
   "metadata": {
    "colab": {
     "base_uri": "https://localhost:8080/",
     "height": 963
    },
    "execution": {
     "iopub.execute_input": "2022-01-29T08:01:50.422383Z",
     "iopub.status.busy": "2022-01-29T08:01:50.422131Z",
     "iopub.status.idle": "2022-01-29T08:13:55.101608Z",
     "shell.execute_reply": "2022-01-29T08:13:55.100664Z",
     "shell.execute_reply.started": "2022-01-29T08:01:50.422356Z"
    },
    "id": "1rle5klc96y7",
    "outputId": "1389d0ac-24eb-4ae8-fbf1-a3e7b6f55e3b"
   },
   "outputs": [
    {
     "name": "stderr",
     "output_type": "stream",
     "text": [
      "100%|██████████| 61/61 [00:12<00:00,  4.84it/s]\n",
      "100%|██████████| 61/61 [00:12<00:00,  4.82it/s]\n",
      "100%|██████████| 61/61 [00:12<00:00,  4.76it/s]\n",
      "100%|██████████| 61/61 [00:12<00:00,  4.73it/s]\n",
      "100%|██████████| 61/61 [00:13<00:00,  4.67it/s]\n",
      "100%|██████████| 61/61 [00:13<00:00,  4.66it/s]\n",
      "100%|██████████| 61/61 [00:13<00:00,  4.58it/s]\n",
      "100%|██████████| 61/61 [00:13<00:00,  4.60it/s]\n",
      "100%|██████████| 61/61 [00:13<00:00,  4.58it/s]\n",
      "100%|██████████| 61/61 [00:13<00:00,  4.54it/s]\n",
      "100%|██████████| 61/61 [00:13<00:00,  4.50it/s]\n",
      "100%|██████████| 61/61 [00:13<00:00,  4.49it/s]\n",
      "100%|██████████| 61/61 [00:13<00:00,  4.50it/s]\n",
      "100%|██████████| 61/61 [00:13<00:00,  4.50it/s]\n",
      "100%|██████████| 61/61 [00:13<00:00,  4.50it/s]\n",
      "100%|██████████| 61/61 [00:13<00:00,  4.52it/s]\n",
      "100%|██████████| 61/61 [00:13<00:00,  4.50it/s]\n",
      "100%|██████████| 61/61 [00:13<00:00,  4.50it/s]\n",
      "100%|██████████| 61/61 [00:13<00:00,  4.50it/s]\n",
      "100%|██████████| 61/61 [00:13<00:00,  4.50it/s]\n"
     ]
    },
    {
     "name": "stdout",
     "output_type": "stream",
     "text": [
      "CPU times: user 3min 50s, sys: 1min 42s, total: 5min 33s\n",
      "Wall time: 5min 42s\n"
     ]
    },
    {
     "data": {
      "image/png": "[encoded data removed]",
      "text/plain": [
       "<Figure size 1296x576 with 2 Axes>"
      ]
     },
     "metadata": {
      "needs_background": "light"
     },
     "output_type": "display_data"
    }
   ],
   "source": [
    "%%time\n",
    "EPOCHS = 20\n",
    "model = BertClassifier()\n",
    "learning_rate = 2e-5\n",
    "\n",
    "trained_model = train(model, Dataset(train_data), Dataset(test_data), learning_rate, EPOCHS, 8)"
   ]
  },
  {
   "cell_type": "code",
   "execution_count": null,
   "metadata": {
    "id": "IilFNxAE5abz"
   },
   "outputs": [],
   "source": []
  }
 ],
 "metadata": {
  "accelerator": "GPU",
  "colab": {
   "name": "Evolwe_test_task_24.06.22",
   "provenance": []
  },
  "gpuClass": "standard",
  "kernelspec": {
   "display_name": "Python 3 (ipykernel)",
   "language": "python",
   "name": "python3"
  },
  "language_info": {
   "codemirror_mode": {
    "name": "ipython",
    "version": 3
   },
   "file_extension": ".py",
   "mimetype": "text/x-python",
   "name": "python",
   "nbconvert_exporter": "python",
   "pygments_lexer": "ipython3",
   "version": "3.9.10"
  },
  "toc": {
   "base_numbering": 1,
   "nav_menu": {},
   "number_sections": true,
   "sideBar": true,
   "skip_h1_title": true,
   "title_cell": "Table of Contents",
   "title_sidebar": "Contents",
   "toc_cell": false,
   "toc_position": {},
   "toc_section_display": true,
   "toc_window_display": true
  }
 },
 "nbformat": 4,
 "nbformat_minor": 1
}
